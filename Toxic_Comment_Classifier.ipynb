{
  "nbformat": 4,
  "nbformat_minor": 0,
  "metadata": {
    "colab": {
      "name": "Toxic_Comment_Classifier",
      "version": "0.3.2",
      "provenance": [],
      "collapsed_sections": [],
      "include_colab_link": true
    },
    "kernelspec": {
      "name": "python3",
      "display_name": "Python 3"
    },
    "accelerator": "GPU"
  },
  "cells": [
    {
      "cell_type": "markdown",
      "metadata": {
        "id": "view-in-github",
        "colab_type": "text"
      },
      "source": [
        "<a href=\"https://colab.research.google.com/github/scherbatsky-jr/Toxic-Comment-Classifier/blob/master/Toxic_Comment_Classifier.ipynb\" target=\"_parent\"><img src=\"https://colab.research.google.com/assets/colab-badge.svg\" alt=\"Open In Colab\"/></a>"
      ]
    },
    {
      "cell_type": "code",
      "metadata": {
        "id": "a-UWy4iD1bHx",
        "colab_type": "code",
        "outputId": "6d2a7107-7397-4ea9-8ed6-8ab632877c3f",
        "colab": {
          "base_uri": "https://localhost:8080/",
          "height": 35
        }
      },
      "source": [
        "import tensorflow as tf\n",
        "from tensorflow import keras\n",
        "import pandas as pd\n",
        "import numpy as np\n",
        "from nltk.stem.snowball import SnowballStemmer\n",
        "from keras.preprocessing.text import Tokenizer\n",
        "from keras import Sequential\n",
        "from keras import layers\n",
        "from keras.layers import Dense, Dropout, Flatten\n"
      ],
      "execution_count": 1,
      "outputs": [
        {
          "output_type": "stream",
          "text": [
            "Using TensorFlow backend.\n"
          ],
          "name": "stderr"
        }
      ]
    },
    {
      "cell_type": "code",
      "metadata": {
        "id": "9ehi1Zw61mR6",
        "colab_type": "code",
        "outputId": "3f0c5a21-9b09-4e35-94b4-e4d99972b1d7",
        "colab": {
          "base_uri": "https://localhost:8080/",
          "height": 129
        }
      },
      "source": [
        "from google.colab import drive\n",
        "drive.mount('/content/gdrive')"
      ],
      "execution_count": 2,
      "outputs": [
        {
          "output_type": "stream",
          "text": [
            "Go to this URL in a browser: https://accounts.google.com/o/oauth2/auth?client_id=947318989803-6bn6qk8qdgf4n4g3pfee6491hc0brc4i.apps.googleusercontent.com&redirect_uri=urn%3Aietf%3Awg%3Aoauth%3A2.0%3Aoob&scope=email%20https%3A%2F%2Fwww.googleapis.com%2Fauth%2Fdocs.test%20https%3A%2F%2Fwww.googleapis.com%2Fauth%2Fdrive%20https%3A%2F%2Fwww.googleapis.com%2Fauth%2Fdrive.photos.readonly%20https%3A%2F%2Fwww.googleapis.com%2Fauth%2Fpeopleapi.readonly&response_type=code\n",
            "\n",
            "Enter your authorization code:\n",
            "··········\n",
            "Mounted at /content/gdrive\n"
          ],
          "name": "stdout"
        }
      ]
    },
    {
      "cell_type": "code",
      "metadata": {
        "id": "bOnLNyKb1n3A",
        "colab_type": "code",
        "colab": {}
      },
      "source": [
        "data_path =\"/content/gdrive/My Drive/MLStuffs/CommentsClassifier\"\n",
        "training_data_path= data_path+\"/train.csv\"\n",
        "training_data= pd.read_csv(training_data_path)\n",
        "\n",
        "test_data_path= data_path+\"/test.csv\"\n",
        "testlabels_data_path = data_path+\"/test_labels.csv\"\n",
        "test_data= pd.read_csv(test_data_path)\n",
        "test_labels= pd.read_csv(testlabels_data_path)\n"
      ],
      "execution_count": 0,
      "outputs": []
    },
    {
      "cell_type": "code",
      "metadata": {
        "id": "o-_XZneOi3zL",
        "colab_type": "code",
        "outputId": "64a66ef7-15c0-4ab6-d5bc-37a683e03cf9",
        "colab": {
          "base_uri": "https://localhost:8080/",
          "height": 206
        }
      },
      "source": [
        "training_data[5000:5005]"
      ],
      "execution_count": 4,
      "outputs": [
        {
          "output_type": "execute_result",
          "data": {
            "text/html": [
              "<div>\n",
              "<style scoped>\n",
              "    .dataframe tbody tr th:only-of-type {\n",
              "        vertical-align: middle;\n",
              "    }\n",
              "\n",
              "    .dataframe tbody tr th {\n",
              "        vertical-align: top;\n",
              "    }\n",
              "\n",
              "    .dataframe thead th {\n",
              "        text-align: right;\n",
              "    }\n",
              "</style>\n",
              "<table border=\"1\" class=\"dataframe\">\n",
              "  <thead>\n",
              "    <tr style=\"text-align: right;\">\n",
              "      <th></th>\n",
              "      <th>id</th>\n",
              "      <th>comment_text</th>\n",
              "      <th>toxic</th>\n",
              "      <th>severe_toxic</th>\n",
              "      <th>obscene</th>\n",
              "      <th>threat</th>\n",
              "      <th>insult</th>\n",
              "      <th>identity_hate</th>\n",
              "    </tr>\n",
              "  </thead>\n",
              "  <tbody>\n",
              "    <tr>\n",
              "      <th>5000</th>\n",
              "      <td>0d3c921d9fb4b60c</td>\n",
              "      <td>hay bitch \\n\\nthank you kindly for your advice...</td>\n",
              "      <td>1</td>\n",
              "      <td>0</td>\n",
              "      <td>1</td>\n",
              "      <td>0</td>\n",
              "      <td>1</td>\n",
              "      <td>0</td>\n",
              "    </tr>\n",
              "    <tr>\n",
              "      <th>5001</th>\n",
              "      <td>0d3d7176080af3f2</td>\n",
              "      <td>\"\\n\\n potential resource \\n\\n Mexico's other c...</td>\n",
              "      <td>0</td>\n",
              "      <td>0</td>\n",
              "      <td>0</td>\n",
              "      <td>0</td>\n",
              "      <td>0</td>\n",
              "      <td>0</td>\n",
              "    </tr>\n",
              "    <tr>\n",
              "      <th>5002</th>\n",
              "      <td>0d3fe36dfe5a16af</td>\n",
              "      <td>\"\\n\\nPlease note that warnings are sanctioned ...</td>\n",
              "      <td>0</td>\n",
              "      <td>0</td>\n",
              "      <td>0</td>\n",
              "      <td>0</td>\n",
              "      <td>0</td>\n",
              "      <td>0</td>\n",
              "    </tr>\n",
              "    <tr>\n",
              "      <th>5003</th>\n",
              "      <td>0d3fec1ba3c85535</td>\n",
              "      <td>\"\\n\\nUnless the admin of [stadiumarcadium.com]...</td>\n",
              "      <td>0</td>\n",
              "      <td>0</td>\n",
              "      <td>0</td>\n",
              "      <td>0</td>\n",
              "      <td>0</td>\n",
              "      <td>0</td>\n",
              "    </tr>\n",
              "    <tr>\n",
              "      <th>5004</th>\n",
              "      <td>0d409152e69a934d</td>\n",
              "      <td>\"\\n\\n In response to your threat on my user pa...</td>\n",
              "      <td>0</td>\n",
              "      <td>0</td>\n",
              "      <td>0</td>\n",
              "      <td>0</td>\n",
              "      <td>0</td>\n",
              "      <td>0</td>\n",
              "    </tr>\n",
              "  </tbody>\n",
              "</table>\n",
              "</div>"
            ],
            "text/plain": [
              "                    id  ... identity_hate\n",
              "5000  0d3c921d9fb4b60c  ...             0\n",
              "5001  0d3d7176080af3f2  ...             0\n",
              "5002  0d3fe36dfe5a16af  ...             0\n",
              "5003  0d3fec1ba3c85535  ...             0\n",
              "5004  0d409152e69a934d  ...             0\n",
              "\n",
              "[5 rows x 8 columns]"
            ]
          },
          "metadata": {
            "tags": []
          },
          "execution_count": 4
        }
      ]
    },
    {
      "cell_type": "markdown",
      "metadata": {
        "id": "TsOaRYBc2fa7",
        "colab_type": "text"
      },
      "source": [
        "<h2>Stemming all the text from Snowball Stemmer</h2>"
      ]
    },
    {
      "cell_type": "code",
      "metadata": {
        "id": "eNO4A3574wKZ",
        "colab_type": "code",
        "outputId": "eaae907c-d7cd-4d41-d601-394f8d125dec",
        "colab": {
          "base_uri": "https://localhost:8080/",
          "height": 166
        }
      },
      "source": [
        "sentence_list = [sentence for sentence in training_data.comment_text]\n",
        "lowered_sentence_list = [sentence.lower() for sentence in sentence_list]\n",
        "print(lowered_sentence_list[1])\n",
        "word_list = [sentence.split() for sentence in lowered_sentence_list]\n",
        "\n",
        "\n",
        "testsentence_list = [sentence for sentence in test_data.comment_text]\n",
        "testlowered_sentence_list = [sentence.lower() for sentence in testsentence_list]\n",
        "print(testlowered_sentence_list[1])\n",
        "testword_list = [sentence.split() for sentence in testlowered_sentence_list]\n",
        "print(testword_list[0:200])\n",
        "\n",
        "print(len(word_list))\n",
        "all_sentence_list = word_list + testword_list\n",
        "print(len(all_sentence_list))"
      ],
      "execution_count": 5,
      "outputs": [
        {
          "output_type": "stream",
          "text": [
            "d'aww! he matches this background colour i'm seemingly stuck with. thanks.  (talk) 21:51, january 11, 2016 (utc)\n",
            "== from rfc == \n",
            "\n",
            " the title is fine as it is, imo.\n",
            "[['yo', 'bitch', 'ja', 'rule', 'is', 'more', 'succesful', 'then', \"you'll\", 'ever', 'be', 'whats', 'up', 'with', 'you', 'and', 'hating', 'you', 'sad', 'mofuckas...i', 'should', 'bitch', 'slap', 'ur', 'pethedic', 'white', 'faces', 'and', 'get', 'you', 'to', 'kiss', 'my', 'ass', 'you', 'guys', 'sicken', 'me.', 'ja', 'rule', 'is', 'about', 'pride', 'in', 'da', 'music', 'man.', 'dont', 'diss', 'that', 'shit', 'on', 'him.', 'and', 'nothin', 'is', 'wrong', 'bein', 'like', 'tupac', 'he', 'was', 'a', 'brother', 'too...fuckin', 'white', 'boys', 'get', 'things', 'right', 'next', 'time.,'], ['==', 'from', 'rfc', '==', 'the', 'title', 'is', 'fine', 'as', 'it', 'is,', 'imo.'], ['\"', '==', 'sources', '==', '*', 'zawe', 'ashton', 'on', 'lapland', '—', '/', '\"'], [':if', 'you', 'have', 'a', 'look', 'back', 'at', 'the', 'source,', 'the', 'information', 'i', 'updated', 'was', 'the', 'correct', 'form.', 'i', 'can', 'only', 'guess', 'the', 'source', \"hadn't\", 'updated.', 'i', 'shall', 'update', 'the', 'information', 'once', 'again', 'but', 'thank', 'you', 'for', 'your', 'message.'], ['i', \"don't\", 'anonymously', 'edit', 'articles', 'at', 'all.'], ['thank', 'you', 'for', 'understanding.', 'i', 'think', 'very', 'highly', 'of', 'you', 'and', 'would', 'not', 'revert', 'without', 'discussion.'], ['please', 'do', 'not', 'add', 'nonsense', 'to', 'wikipedia.', 'such', 'edits', 'are', 'considered', 'vandalism', 'and', 'quickly', 'undone.', 'if', 'you', 'would', 'like', 'to', 'experiment,', 'please', 'use', 'the', 'sandbox', 'instead.', 'thank', 'you.', '-'], [':dear', 'god', 'this', 'site', 'is', 'horrible.'], ['\"', 'only', 'a', 'fool', 'can', 'believe', 'in', 'such', 'numbers.', 'the', 'correct', 'number', 'lies', 'between', '10', '000', 'to', '15', '000.', 'ponder', 'the', 'numbers', 'carefully.', 'this', 'error', 'will', 'persist', 'for', 'a', 'long', 'time', 'as', 'it', 'continues', 'to', 'reproduce...', 'the', 'latest', 'reproduction', 'i', 'know', 'is', 'from', 'encyclopædia', 'britannica', 'almanac', '2008', 'wich', 'states', 'magnittude:', '8.7', '(fair', 'enough)', 'victims:', '70', '000', '(today', '10', '000', 'to', '15', '000', 'is', 'not', '\"\"a', 'lot\"\"', 'so', 'i', 'guess', 'people', 'just', 'come', 'out', 'with', 'a', 'number', 'that', 'impresses', 'enough,', 'i', \"don't\", 'know.', 'but', 'i', 'know', 'this:', \"it's\", 'just', 'a', 'shameless', 'lucky', 'number', 'that', 'they', 'throw', 'in', 'the', 'air.', 'gc', '\"'], ['==', 'double', 'redirects', '==', 'when', 'fixing', 'double', 'redirects,', \"don't\", 'just', 'blank', 'the', 'outer', 'one,', 'you', 'need', 'edit', 'it', 'to', 'point', 'it', 'to', 'the', 'final', 'target,', 'unless', 'you', 'think', \"it's\", 'inappropriate,', 'in', 'which', 'case,', 'it', 'needs', 'to', 'be', 'nominated', 'at', 'wp:rfd'], ['i', 'think', 'its', 'crap', 'that', 'the', 'link', 'to', 'roggenbier', 'is', 'to', 'this', 'article.', 'somebody', 'that', 'knows', 'how', 'to', 'do', 'things', 'should', 'change', 'it.'], ['\":::', 'somebody', 'will', 'invariably', 'try', 'to', 'add', 'religion?', 'really??', 'you', 'mean,', 'the', 'way', 'people', 'have', 'invariably', 'kept', 'adding', '\"\"religion\"\"', 'to', 'the', 'samuel', 'beckett', 'infobox?', 'and', 'why', 'do', 'you', 'bother', 'bringing', 'up', 'the', 'long-dead', 'completely', 'non-existent', '\"\"influences\"\"', 'issue?', \"you're\", 'just', 'flailing,', 'making', 'up', 'crap', 'on', 'the', 'fly.', ':::', 'for', 'comparison,', 'the', 'only', 'explicit', 'acknowledgement', 'in', 'the', 'entire', 'amos', 'oz', 'article', 'that', 'he', 'is', 'personally', 'jewish', 'is', 'in', 'the', 'categories!', '\"'], [',', '25', 'february', '2010', '(utc)', ':::looking', 'it', 'over,', \"it's\", 'clear', 'that', '(a', 'banned', 'sockpuppet', 'of', ')', 'ignored', 'the', 'consensus', '(&,', 'fwiw,', 'policy-appropriate)', 'choice', 'to', 'leave', 'the', 'page', 'at', 'chihuahua', '(mexico)', 'and', 'the', 'current', 'page', 'should', 'be', 'returned', 'there.', 'anyone', 'have', 'the', 'time', 'to', 'fix', 'the', 'incoming', 'links?', '-', '18:24'], ['\"', 'it', 'says', 'it', 'right', 'there', 'that', 'it', 'is', 'a', 'type.', 'the', '\"\"type\"\"', 'of', 'institution', 'is', 'needed', 'in', 'this', 'case', 'because', 'there', 'are', 'three', 'levels', 'of', 'suny', 'schools:', '-university', 'centers', 'and', 'doctoral', 'granting', 'institutions', '-state', 'colleges', '-community', 'colleges.', 'it', 'is', 'needed', 'in', 'this', 'case', 'to', 'clarify', 'that', 'ub', 'is', 'a', 'suny', 'center.', 'it', 'says', 'it', 'even', 'in', 'binghamton', 'university,', 'university', 'at', 'albany,', 'state', 'university', 'of', 'new', 'york,', 'and', 'stony', 'brook', 'university.', 'stop', 'trying', 'to', 'say', \"it's\", 'not', 'because', 'i', 'am', 'totally', 'right', 'in', 'this', 'case.\"'], ['\"', '==', 'before', 'adding', 'a', 'new', 'product', 'to', 'the', 'list,', 'make', 'sure', \"it's\", 'relevant', '==', 'before', 'adding', 'a', 'new', 'product', 'to', 'the', 'list,', 'make', 'sure', 'it', 'has', 'a', 'wikipedia', 'entry', 'already,', '\"\"proving\"\"', \"it's\", 'relevance', 'and', 'giving', 'the', 'reader', 'the', 'possibility', 'to', 'read', 'more', 'about', 'it.', 'otherwise', 'it', 'could', 'be', 'subject', 'to', 'deletion.', 'see', 'this', \"article's\", 'revision', 'history.\"'], ['==current', 'position==', 'anyone', 'have', 'confirmation', 'that', 'sir,', 'alfred', 'is', 'no', 'longer', 'at', 'the', 'airport', 'and', 'is', 'hospitalised?'], ['this', 'other', 'one', 'from', '1897'], ['==', 'reason', 'for', 'banning', 'throwing', '==', 'this', 'article', 'needs', 'a', 'section', 'on', '/why/', 'throwing', 'is', 'banned.', 'at', 'the', 'moment,', 'to', 'a', 'non-cricket', 'fan,', 'it', 'seems', 'kind', 'of', 'arbitrary.'], ['::', 'wallamoose', 'was', 'changing', 'the', 'cited', 'material', 'to', 'say', 'things', 'the', 'original', 'source', 'did', 'not', 'say.', 'in', 'response', 'to', 'his', 'objections,', 'i', 'modified', 'the', 'article', 'as', 'we', 'went', 'along.', 'i', 'was', 'not', 'just', 'reverting', 'him.', 'i', 'repeatedly', 'asked', 'him', 'to', 'use', 'the', 'talk', 'page.', \"i've\", 'been', 'trying', 'to', 'add', 'to', 'the', 'article', 'for', 'a', 'long', 'time.', \"it's\", 'so', 'thin', 'on', 'content.', 'this', 'is', 'wrong.'], ['|blocked]]', 'from', 'editing', 'wikipedia.', '|'], ['==indefinitely', 'blocked==', 'i', 'have', 'indefinitely', 'blocked', 'this', 'account.'], ['==', 'arabs', 'are', 'committing', 'genocide', 'in', 'iraq,', 'but', 'no', 'protests', 'in', 'europe.', '==', 'may', 'europe', 'also', 'burn', 'in', 'hell.'], ['please', 'stop.', 'if', 'you', 'continue', 'to', 'vandalize', 'wikipedia,', 'as', 'you', 'did', 'to', 'homosexuality,', 'you', 'will', 'be', 'blocked', 'from', 'editing.'], ['==', 'energy', '==', 'i', 'have', 'edited', 'the', 'introduction,', 'because', 'previously', 'it', 'said', 'that', 'passive', 'transport', 'does', 'not', 'use', 'any', 'kind', 'of', 'energy.', 'this', 'is', 'not', 'true.', 'passive', 'transport', 'relies', 'on', 'the', 'kinetic', 'energy', 'of', 'the', 'substance', 'that', 'is', 'being', 'transported.', 'this', 'kinetic', 'energy', 'is', 'what', 'causes', 'it', 'to', 'move', 'around', 'and', '(by', 'random', 'chance)', 'cross', 'the', 'membrane.', 'the', 'difference', 'is', 'that', 'active', 'transport', 'actually', 'uses', 'the', \"cell's\", 'energy', '(atp', 'or', 'electrochemical', 'gradient)', 'to', 'pump', 'the', 'substance', 'across', 'the', 'membrane.'], [':yeah,', 'thanks', 'for', 'reviving', 'the', 'tradition', 'of', 'pissing', 'all', 'over', 'articles', 'because', 'you', 'want', 'to', 'live', 'out', 'your', 'ethnic', 'essentialism.', 'why', 'let', 'mere', 'facts', 'get', 'into', 'the', 'way', 'of', 'enjoying', 'that.'], ['mlm', 'software,nbfc', 'software,non', 'banking', 'financial', 'company,nbfc', 'software', 'company,nbfc', 'software', 'in', 'india,software', 'for', 'banking,gold', 'loan', 'software.mlm', 'software', \"'''seo\", 'services', 'search', 'engine', 'optimization', 'www.liveindiatech.com', 'according', 'to', 'a', 'recenbold', 'textt', 'survey', 'people', 'have', 'moved', 'away', 'from', 'searching', 'print', 'media', 'for', 'their', 'needs.', 'they', 'use', 'search', 'engines', 'to', 'find', 'the', 'products', 'and', 'services.', 'the', 'first', 'step', 'to', 'have', 'a', 'successful', 'presence', 'over', 'the', 'internet', 'is', 'creating', 'your', 'own', 'website', 'but', 'that', 'is', 'not', 'enough.', 'when', 'someone', 'searches', 'for', 'the', 'products/services', 'that', 'you', 'offer', 'your', 'name', 'needs', 'to', 'be', 'listed', 'high', 'in', 'the', 'search', 'engine.', 'live', 'india', 'tech', 'guarantees', 'you', 'search', 'engine', 'optimization', 'using', 'which', 'your', 'organizations', 'name', 'will', 'feature', 'in', 'the', 'top', 'ten', 'listing', 'in', 'all', 'the', 'search', 'engines.', 'this', 'will', 'ensure', 'that', 'the', 'traffic', 'to', 'your', 'site', 'will', 'increase', 'exponentially', 'aiding', 'you', 'in', 'the', 'sales', 'of', 'more', 'products', 'and', 'services.', 'we', 'have', 'invested', 'enough', 'resources', 'to', 'develop', 'an', 'seo', 'system', 'that', 'is', 'far', 'superior', 'to', 'anything', 'else', 'in', 'the', 'market.', 'www.liveindiatech.com'], ['@redslash,', 'cut', 'it', 'short.', 'if', 'you', 'have', 'sources', 'stating', 'the', 'rok', 'is', 'sovereign', 'post', 'them.', 'otherwise', 'please', 'aknowledge', 'wp', 'is', 'not', 'the', 'place', 'to', 'make', 'or.'], ['====================', 'deception', 'is', 'the', 'way', 'of', 'the', 'ninja.....', 'hence,', 'frank', 'dux', 'is', 'an', 'amazing', 'ninja'], ['.', 'jews', 'are', 'not', 'a', 'race', 'because', 'you', 'can', 'only', 'get', 'it', 'from', 'your', 'mother.', 'your', 'own', 'mention', 'of', 'ethiopian', 'jews', 'not', 'testing', 'as', 'jews', 'proves', 'it', 'is', 'not,', 'as', 'well', 'as', 'the', 'fact', 'that', 'we', 'accept', 'converts'], [':::if', 'ollie', 'or', 'others', 'think', 'that', 'one', 'list', 'of', 'the', 'oldest', 'people', 'we', 'know', 'about', 'is', 'too', 'long,', 'the', 'easy', 'answer', 'is', 'to', 'raise', 'the', 'cutoff', 'age.', '110', 'is', 'purely', 'a', 'round', 'number', 'and', 'a', 'full', '12', 'years', 'shorter', 'then', 'the', 'record.', 'we', 'can', 'make', 'it', 'the', 'top', '1000', 'or', 'top', '500', 'or', 'everyone', 'above', '115', '-', 'tell', 'us', 'what', 'the', 'maximum', 'list', 'size', 'is', 'and', 'we', 'can', 'set', 'a', 'threshold.'], ['\"', '*support', 'per', 'jimbo', 'and', 'wp:google', '\"\"climatic', 'research', 'unit', 'email', 'controversy\"\"', '=4,930', 'results,', '\"\"climategate\"\"', '=3,210,000', 'results.', 'mfa', '\"'], ['professors', 'to', 'the', 'manhatten', 'project.'], [':::::i', 'have', 'added', 'more', 'wikilinks', 'to', 'my', 'sections', 'and', 'included', 'more', 'secondary', 'sources', 'as', 'you', 'suggested.', 'for', 'all', 'the', 'citations', 'under', 'human', 'disease', 'section,', 'i', 'went', 'through', 'them', 'and', 'exchanged', 'review', 'articles', 'for', 'the', 'primary', 'sources.', 'thanks', 'again', 'for', 'all', 'your', 'input!'], ['\"', ':not', 'sure', 'whether', 'this', 'is', 'notable', 'enough', 'to', 'be', 'mentioned', 'in', 'the', 'article,', 'but', \"you're\", 'right', '–', 'versions', 'later', 'than', '6', '(2001)', 'can', 'open', 'files', 'created', 'by', 'all', 'previous', 'versions,', 'but', 'save', 'files', 'only', 'in', 'its', 'own', 'format,', 'with', 'a', 'suffix', 'of', '\"\".msx\"\",', 'where', 'x', 'is', 'the', 'version', 'number', '(7,', '8,', '9,', '10,', '11,', '12...).', 'this', 'is', 'intentional,', 'of', 'course.', 'besides,', 'all', 'versions', 'but', '7', 'save', 'files', 'in', 'a', 'compressed', 'format.', '☭共产主义万岁★', '\"'], ['일이삼사오육칠팔구하고십이요', '에헤헤', '으헤', '으헤', '으허허'], [\"i've\", 'deleted', 'the', 'page', ',', 'as', 'we', 'have', 'no', 'evidence', 'that', 'you', 'are', 'the', 'person', 'named', 'on', 'that', 'page,', 'and', 'its', 'content', 'goes', 'against', \"wikipedia's\", 'policies', 'for', 'the', 'use', 'of', 'user', 'pages.'], ['==', 'nation', 'radio', '-', 'request', 'for', 'comment', '==', 'hi', 'dravecky,', \"i'm\", 'just', 'contacting', 'a', 'couple', 'of', 'editors', 'with', 'more', 'specialist', 'knowledge', 'to', 'resolve', 'a', 'discussion', 'at', 'talk:nation', 'radio', 'about', 'naming', 'a', 'broadcast', 'area.', \"i'd\", 'be', 'interested', 'in', 'your', 'feedback.', 'thanks'], ['\"\"\"', '(per', 'your', 'user', 'page)\"'], ['\"', '==balance==', 'this', 'page', 'has', 'one', 'sentence', 'about', 'the', 'basic', 'definition', 'of', 'the', 'word,', 'and', 'a', 'huge', 'amount', 'about', 'the', 'slang/profane', 'uses.', 'perhaps', 'the', 'former', 'should', 'be', 'extended;', 'is', 'there', 'no', 'information', 'about', 'female', 'dogs', 'available', 'beyond', 'their', 'name?', 'this', 'is', 'an', 'encyclopaedia,', 'not', 'a', 'dictionary.', 'i', 'feel', 'that', 'whoever', 'is', 'looking', 'this', 'definition', 'up', 'is', 'very', 'appropiate', 'and', 'should', 'be', 'deleted', 'from', 'wikipedia...immediatly.', 'this', 'word', 'is', 'used', 'very', 'often', 'and', 'is', 'also', 'a', 'very', '\"\"mean\"\"', 'word.', 'i', 'belive', 'that', 'is', 'majorly', 'true.', 'very', 'much', 'so.', 'okay', 'so,', 'the', 'good', 'meaning', 'is', 'a', 'female', 'dog.', 'bitch', '!!!!!!!!!it', 'also', 'stands', 'for', 'the', 'name', 'brittany', 'fellows—preceding', 'unsigned', 'comment', 'added', 'by', '•', '==etymology==', 'the', 'word', 'bitch', 'is', 'from', 'the', 'old', 'norse', 'bikkjuna', 'meaning', '\"\"female', 'of', 'the', 'dog\"\"', 'of', 'unknown', 'origin,', 'grimm', 'derives', 'the', 'old', 'norse', 'words', 'from', 'lapp', 'pittja,', 'but', 'oed', 'notes', 'that', '\"\"the', 'converse', 'is', 'equally', 'possible.\"\"', 'the', 'adj.', 'bitchy', 'was', 'first', 'seen', 'in', '1925.', 'the', 'verb', 'meaning', 'to', 'complain', 'in', '1930.', 'slang', 'bitchen', '\"\"good\"\"', 'is', 'attested', 'to', 'the', \"1950's\", '==', 'reclaiming', 'the', 'word', 'bitch', '==', 'the', 'word', 'bitch', 'is', 'actually', 'only', 'offencive', 'in', 'american', 'and', 'canadian', 'english.', 'in', 'most', 'other', 'english', 'variants', 'bitch', 'maintains', \"it's\", 'correct', 'definition', '-', 'female', 'canine.', 'people', 'have', 'argued', 'that', 'bitch', 'is', 'different', 'because', 'it', 'is', 'used', 'as', 'an', 'insult', '-', 'but', 'so', 'is', '\"\"pig\"\",', '\"\"dog\"\",', '\"\"cow\"\"', 'and', 'others.', 'these', 'are', 'not', 'considered', 'profane,', 'so', 'why', 'is', 'bitch?', 'as', 'far', 'as', 'i', 'am', 'concerned,', 'there', 'is', 'nothing', 'to', '\"\"reclaim\"\"', 'as', 'bitch', 'simply', 'means', 'a', 'female', 'canine.', 'it', 'may', 'be', 'used', 'as', 'a', 'pejorative', 'or', 'descriptor', '-', 'that', 'does', 'not', 'make', 'it', 'a', 'profanity.', 'it', 'should', 'definately', 'say', 'something', 'about', 'kyle', 'vanderweilen', 'and', 'all', 'his', 'bitchin', 'is', 'there', 'any', 'particular', 'evidence', 'of', 'women', '\"\"reclaiming\"\"', 'the', 'word', 'bitch', 'in', 'the', '90s?', 'can', 'anyone', 'point', 'to', 'articles', 'on', 'this,', 'etc.?', 'the', 'song', 'is', 'definitely', 'interesting', 'and', 'belongs', 'here,', 'but', \"doesn't\", 'actually', 'reclaim', 'the', 'word', '\"\"bitch\"\"', 'any', 'more', 'than', 'it', 'reclaims', 'the', 'word', '\"\"sinner.\"\"', 'also,', 'i', \"don't\", 'really', 'understand', 'the', 'last', 'paragraph', 'and', 'it', 'sucks', 'i', 'was', 'going', 'to', 'try', 'and', 'clear', 'it', 'up,', 'but', 'i', 'realized', 'i', \"don't\", 'know', 'what', 'it', 'means.', 'can', 'someone', 'point', 'to', 'a', 'source', 'that', 'lays', 'out', 'the', 'argument', 'about', 'bitches,', 'fertility', 'and', 'patriarchy', 'more', 'clearly?', ':we', \"don't\", 'need', 'articles', 'at', 'all', 'as', 'i', 'there', 'are', 'definitely', 'enough', 'examples', '(even', 'outside', 'of', 'the', '90s).', 'missy', 'elliot', 'cleary', 'and', 'repeatedly', 'reclaims', 'the', 'word,', 'for', 'instance,', '\"\"she\\'s', 'a', 'bitch\"\".', '::references', 'are', 'fine', 'just', 'the', 'name', '\"\"missy', 'elliot\"\"', 'got', 'me', 'to', 'find', 'a', 'quote', 'of', 'a', 'rolling', 'stone', 'review', 'that', 'mentioned', '\"\"reclaiming\"\"', 'the', 'word.', 'in', 'fact,', 'if', 'some', 'one', 'knows', 'more', 'about', 'her,', 'it', 'might', 'be', 'interesting', 'to', 'add', 'a', 'section', 'on', 'her', 'work', 'and', 'on', 'how', 'it', 'relates', 'to', 'women/slurs', 'more', 'generally', 'within', 'hip-hop.', ':::how', 'relevant', 'is', 'this', 'reclamation?', 'it', 'seems', 'to', 'me', 'poison', 'for', 'a', 'woman', 'to', 'use', 'an', 'epithet', 'which', 'still', 'strongly', 'connotes', 'despised', 'traits.', 'i', \"don't\", 'see', 'how', 'using', 'a', 'word', 'connoting', '\"\"querolous\"\",', '\"\"spiteful\"\",', 'and', '\"\"malicious\"\"', 'can', 'be', 'empowering.', 'but', 'i', \"don't\", 'know;', \"life's\", 'a', 'bitch.', '::::it', 'stems', 'from', 'a', 'reaction', 'to', 'the', 'prevalence', 'of', 'tagging', 'any', 'woman', 'who', \"doesn't\", 'adhere', 'to', 'a', 'certain', 'standard', 'of', 'femininity', 'as', 'a', 'bitch.', 'to', 'use', 'a', 'literary', 'example,', 'in', 'the', 'novel', 'the', \"handmaid's\", 'tale', 'the', 'narrator', 'related', 'the', 'feeling', 'that,', 'whenever', 'she', 'outsmarted', 'a', 'man,', 'she', 'could', 'almost', 'hear', 'him', 'calling', 'her', 'a', 'bitch', 'in', 'his', 'mind,', 'even', 'her', 'own', 'husband.', '-', ':::::that', 'literary', 'reaction', 'you', 'recited', 'is', 'jealousy;', 'men', 'have', 'names', 'for', 'other', 'men', 'who', 'outsmart', 'them', 'too,', 'but,', 'not', 'having', 'a', 'word', 'like', '\"\"bitch\"\"', 'for', 'them,', 'they', 'have', 'to', 'resort', 'to', 'a', 'greater', 'variety', 'of', 'pejoritive', 'epithets.', 'though', 'you', \"haven't\", 'been', 'specific,', 'i', 'think', 'that', 'standard', 'of', 'femininity', 'you', 'referred', 'to', 'is', 'a', 'pretext', 'for', 'subordination,', 'which', 'both', 'sexes', 'often', 'strive', 'to', 'impose', 'on', 'the', 'other,', 'but', 'men', 'have', 'traditionally', 'had', 'more', 'power.', 'because', 'it', 'is', 'such', 'a', 'popular', 'epithet', 'in', 'slang,', 'the', 'connotations', 'of', '\"\"bitch\"\"', 'are', 'diffuse,', 'though', 'still', 'commonly', 'pernicious.', 'i', 'think', 'bitch,', 'in', 'itself,', 'is', 'not', 'chiefly', 'a', 'denunciation', 'to', 'punish', 'women', 'who', 'do', 'not', 'conform', 'to', 'that', 'standard,', 'but', 'rather', 'a', 'contemptuous', 'word', 'often', 'used', 'for', 'it.', ':::::however,', 'i', 'still', \"don't\", 'see', 'the', 'point', 'of', 'reclamati'], ['\"', '*@edjohnston.', 'your', 'question', 'was', 'about', 'figures', 'in', 'summary.', 'here', 'are', 'a', 'few', 'points', 'about', 'this.', '#yes,', 'the', 'number', 'of', 'victims', 'is', 'important', 'in', 'an', 'article', 'about', 'political', 'repression.', 'therefore,', 'the', 'number', '(or', 'a', 'range', 'of', 'numbers)', 'should', 'be', 'provided', 'in', 'the', 'introduction.', '#the', 'numbers', 'of', 'people', '\"\"killed\"\"', 'and', 'the', 'number', 'of', 'people', '\"\"who', 'died', 'as', 'a', 'result', 'of', 'communist', 'policies\"\"', 'are', 'different.', 'the', 'second', 'number', 'is', 'significantly', 'greater:', 'it', 'is', 'more', 'than', '60', 'million', '(rather', 'than', '20', 'million)', 'in', 'the', 'soviet', 'union', 'alone', 'according', 'to', 'the', 'guinness', 'book', 'of', 'records.', '#i', 'did', 'not', 'see', 'any', 'estimates', 'of', 'the', 'number', 'of', 'people', 'killed', 'by', 'all', 'communist', 'regimes', 'except', '\"\"black', 'book\"\",', 'which', 'qualifies', 'as', 'a', 'secondary', 'rs', 'written', 'by', 'a', 'group', 'of', 'european', 'historians.', 'it', 'tells', 'exactly', 'this:', '\"\"100', 'million', 'people', 'killed', 'by', 'all', 'communist', 'regimes\"\".', 'they', 'note', 'that', 'the', 'number', 'is', 'approximate,', 'which', 'also', 'should', 'be', 'noted', 'in', 'the', 'introduction.', 'if', 'there', 'are', 'any', 'other', 'secondary', 'rs', 'that', 'tell', '\"\"n', 'million', 'people', 'killed', 'by', 'all', 'communist', 'regimes\"\",', 'they', 'must', 'be', 'also', 'used', 'to', 'obtain', 'a', 'range', 'of', 'numbers.', '#as', 'a', 'side', 'note', 'to', 'others,', 'it', 'is', 'grossly', 'inappropriate', 'to', 'discuss', 'sanctions', 'at', 'article', 'talk', 'pages.', 'if', 'you', 'think', 'that', 'sanctions', 'are', 'needed,', 'please', 'go', 'to', 'appropriate', 'administrative', 'noticeboards', 'and', 'report', 'your', 'concerns', 'there.', '\"'], ['redirect', 'talk:mi', 'vida', 'eres', 'tú'], ['\"', \"i'm\", 'not', 'convinced', 'that', 'he', 'was', 'blind.', 'where', 'is', 'this', 'documented?', \"it's\", 'possible', 'that', 'he', 'was', 'just', 'what', \"we'd\", 'call', '\"\"legally', 'blind\"\"', 'ie', \"didn't\", 'have', 'great', 'vision,', 'and', 'that', 'the', 'name', '\"\"blind', 'blake\"\"', 'is', 'an', 'exaggerated', 'moniker.', 'although', 'i', 'have', 'no', 'proof', \"i've\", 'got', 'a', 'feeling', 'that', 'him', 'being', 'legally', 'blind', 'is', 'more', 'likely', 'than', 'totally', 'blind.', 'of', 'course', \"i've\", 'got', 'no', 'evidence', 'to', 'back', 'that', 'thing', 'up.\"'], ['==', 'thanks', 'for', 'the', 'barnstar!', '==', 'thank', 'you', 'for', 'awarding', 'me', 'with', 'the', 'rickk', 'anti-vandilism', 'barnstar!'], ['\"', '==', 'ref:', 'ss', 'ponzi', 'scheme', '==', 'hi', 'padillah,', 'it', 'is', 'not', 'my', 'opinion', 'that', 'i', 'am', 'trying', 'to', 'impose', 'here,', 'although', 'it', 'may', 'appear', 'to', 'be', 'so.', 'i', 'am', 'just', 'highlighting', 'the', 'fact', 'that', 'it', 'remains', 'controversial', 'whether', 'it', 'is', 'or', \"isn't\", 'a', 'ponzi', 'scheme', '(even', 'if', 'a', 'legal', 'one),', 'so', 'you', 'cannot', 'state', 'as', 'a', 'fact', 'that', 'it', 'is', 'not', 'a', 'ponzi', 'scheme', '(i', 'saw', 'the', 'reference,', 'and', 'the', 'perpetrator', 'itself', 'cannot', 'be', 'treated', 'as', 'a', '\"\"reliable', 'source\"\").', 'in', 'fact,', 'claiming', 'it', 'is', 'not', 'a', 'ponzi', 'scheme', 'seems', 'to', 'be', 'an', 'opinion', 'in', 'itself.', 'my', 'point', 'is', 'that', 'a', 'claim', 'should', 'not', 'be', 'made', 'either', 'way,', 'and', 'the', 'edit', 'in', 'question', 'just', 'accomplishes', 'that.', 'thank', 'you,', 'virat\"'], ['\"', 'look,', 'gerry', 'spence', 'has', 'not', '\"\"never', 'lost', 'a', 'case,', 'criminal', 'or', 'civil.\"\"', 'that', 'is', 'simply', 'untrue.', 'he', 'prevailed', 'in', 'two', 'cases', 'about', 'which', 'he', 'wrote', 'books', '(silkwood', 'and', 'the', 'miss', 'wyoming', 'vs.', 'penthouse', 'cases).', 'he', 'won', 'both', 'massively', 'at', 'trial,', 'and', 'both', 'were', 'completely', 'overturned.', 'in', '1985', 'he', 'represented', 'then-15', 'year', 'old', 'michael', 'jones', 'charged', 'with', 'murder', 'as', 'a', 'juvenile.', 'in', 'oregon', 'the', 'trial', 'was', 'a', 'criminal', 'trial', 'in', 'every', 'sense', 'except', 'that', 'the', 'juvenile', 'neither', 'received', 'a', 'jury', '(which', 'spence', 'argued', 'at', 'the', 'time', 'he', 'was', 'entitled', 'to)', 'and', 'the', 'sentencing', 'authority', 'then', 'ended', 'at', 'age', '21.', 'chief', 'justice', 'alex', 'kozinski', 'of', 'the', '9th', 'u.s.', 'circuit', 'court', 'mentions', 'the', 'arrogance', 'of', 'trial', 'lawyers', 'who', 'claim', 'to', '\"\"never', 'have', 'lost', 'a', 'cast.\"\"', '\"\"n19.', \"there's\", 'one', 'famous', 'exception:', 'gerry', 'spence,', 'at', 'least', 'to', 'hear', 'him', 'tell', 'it.', 'see', 'gerry', 'spence,', 'gunning', 'for', 'justice', '47', '(1982).', 'but', 'see', 'sherrie', 'f.', 'nachman,', 'true', 'lies,', 'starring', 'gerry', 'spence,', 'am.', 'law.,', 'sept.', '1994,', 'at', '13', '(disputing', \"spence's\", 'claim', 'made', 'in', 'gunning', 'for', 'justice', 'and', 'widely', 'reported', 'by', 'the', 'media,', 'and', 'quoting', 'one', 'victorious', 'spence', 'adversary,', '\"\"it\\'s', 'a', 'lie.\"\").\"\"\"'], ['==', 'september', '20th', 'truce', '==', 'according', 'to', 'several', 'news', 'sources,', 'a', 'truce', 'was', 'reached', 'in', 'minsk', 'last', 'night.', 'http://www.bbc.com/news/world-europe-29290246'], [\"i'd\", 'never', 'think', \"i'd\", 'need', 'to', 'say', 'it,', 'but', 'wikipedia', \"isn't\", 'a', 'fansite', 'discussion', 'board.', 'if', 'anything', 'is', 'unannounced', 'by', 'any', 'authority,', 'it', 'might', 'as', 'well', 'be', 'false.', 'mmorpgs', 'are', 'overrated,'], ['but', 'this', 'is', 'not', 'the', 'article', 'about', 'government', 'position', 'but', 'about', 'the', 'reaction.', 'add', 'positions', 'to', '2008', 'kosovo', 'declaration', 'of', 'independence', 'or', 'foreign', 'relations', 'of', 'kosovo.'], ['dj', 'robinson', 'is', 'gay', 'as', 'hell!', 'he', 'sucks', 'his', 'dick', 'so', 'much!!!!!'], ['==', \"dracula's\", 'grandmother', '==', \"dracula's\", 'grandmother', 'was', 'a', 'bulgarian', 'princess,', 'the', 'sister', 'of', 'ivan', 'sratzimir.', 'the', 'links', 'with', 'the', 'lands', 'across', 'the', 'danube', 'remain', 'largely', 'unexamined.', 'i', 'would', 'appreciate', 'any', 'serious', 'contributions.', '(kaloyan)'], ['i', 'have', 'been', 'perfectly', 'civil', 'in', 'what', 'quite', 'clearly', 'idiotic', 'trolling.'], ['*i', 'agree', 'with', 'billfruge.', 'the', 'author', 'describes', 'the', 'unverifiable', 'nature', 'of', 'the', 'two', 'competing', 'etymology', 'theories', 'sufficiently', 'well', 'so', 'as', 'not', 'to', 'mislead', 'any', 'reader,', 'renders', 'an', 'opinion', 'as', 'to', 'which', 'of', 'the', 'two', 'is', 'more', 'likely', '(and', 'it', 'is', 'clear', 'that', 'this', 'is', 'the', \"author's\", 'opinion),', 'and', 'presents', 'the', 'reader', 'with', 'the', 'opportunity', 'to', 'accept', 'either', 'or', 'neither', 'of', 'the', 'two.'], ['==category:italian', 'jews==', ':category:italian', 'jews,', 'which', 'you', 'created,', 'has', 'been', 'nominated', 'for', 'possible', 'deletion,', 'merging,', 'or', 'renaming.', 'if', 'you', 'would', 'like', 'to', 'participate', 'in', 'the', 'discussion,', 'you', 'are', 'invited', 'to', 'add', 'your', 'comments', 'at', 'the', \"category's\", 'entry', 'on', 'the', 'categories', 'for', 'discussion', 'page.', 'thank', 'you.'], ['==', 'someday', 'never', '==', 'why', 'was', 'the', 'image', 'deleted?', 'were', 'there', 'copyright', 'issues?'], ['\",', '5', 'december', '2012', '(utc)', ':::the', 'above', 'is,', 'to', 'the', 'best', 'of', 'my', 'knowledge,', 'an', 'accurate', 'disposition', 'of', 'the', 'facts.', 'the', 'only', 'personal', 'opinion', 'i', 'offered', 'appeared', 'in', 'the', 'last', 'sentence:', '\"\"systems', 'of', 'institutionalized', 'racism', 'always', 'result', 'in', 'injustice,', 'and', 'backlash', 'is', 'a', 'predictable', 'result.\"\"', 'have', 'noted', 'it', 'as', 'such.', ':::i', 'think', 'it', 'is', 'inaccurate', 'to', 'say', 'that', '\"\"white', 'privilege\"\"', 'and', '\"\"white', 'supremacy\"\"', 'are', 'interchangable', 'terms.', 'in', 'fact', 'the', 'usefulness', 'of', '\"\"white', 'privilege\"\"', 'as', 'a', 'concept', 'may', 'be', 'rooted', 'in', 'the', '\"\"invisible,', 'weightless', 'knapsack\"\"', 'analogythose', 'who', 'would', 'never', 'entertain', 'white', 'supremacist', 'ideology', 'may', 'still', 'benefit', 'from', 'some', 'degreee', 'of', '\"\"white', 'privilege.\"\"', '17:40\"'], ['\":i', 'see', 'that', 'you', 'moved', 'to', 'talat', 'hamdani.', 'perhaps', 'you', 'had', 'not', 'read', 'the', 'mfd', 'notice', 'on', 'the', 'page,', 'which', 'says', '\"\"please', 'do', 'not', 'blank,', 'merge,', 'or', 'move', 'it,', 'or', 'remove', 'this', 'notice,', 'while', 'the', 'discussion', 'is', 'in', 'progress\"\".', '(my', 'emphasis.)', '\"'], ['i', 'will', 'burn', 'you', 'to', 'hell', 'if', 'you', 'revoke', 'my', 'talk', 'page', 'access!!!!!!!!!!!!!'], ['==', 'hebrean-judeo-christian', '==', 'what', 'is', 'hebrean-judeo-christian)', 'supposed', 'to', 'mean?'], ['==', 'can', 'you', 'work', 'your', 'magic?', '==', 'hi.', 'i', 'was', 'wondring', 'if', 'you', 'had', 'time', 'to', 'help', 'out', 'with', 'wikipedia:featured', 'article', 'candidates/w.', 'e.', 'b.', 'du', 'bois/archive1.', 'any', 'input', 'would', 'be', 'appreciated:', 'a', 'quick', 'scan', 'or', 'a', 'full', 'review.', \"i've\", 'noticed', 'your', 'work', 'before', 'and', 'i', 'respect', 'your', 'skills.', 'thanks.'], [':fuck', 'off,', 'you', 'anti-semitic', 'cunt.', '|'], ['puwersa', 'ng', 'masa!'], ['\"==', 'quidam', 'software', '==', 'hello', 'stifle,', 'i', 'understand', 'why', 'you', 'erased', 'the', 'article', 'about', 'quidam', 'software.', 'it', 'was', 'too', 'short,', 'without', 'references', 'etc.', 'but', 'actually', 'it', 'is', 'my', 'first', 'article', 'on', 'wikipedia', 'and', 'i', \"don't\", 'know', 'how', 'to', 'ask', 'that', 'the', 'article', 'is', '\"\"under', 'construction\"\".', 'can', 'you', 'let', 'me', 'know', 'please?', 'thanks', 'for', 'your', 'help.—preceding', 'unsigned', 'comment', 'added', 'by', '•', ':thanks', 'for', 'your', 'message', 'and', 'welcome', 'to', 'wikipedia.', 'please', 'sign', 'your', 'messages', 'by', 'typing', '~~~~', 'at', 'the', 'end.', ':quidam', 'software', 'was', 'deleted', 'under', 'the', 'criteria', 'for', 'speedy', 'deletion,', 'specifically', 'number', '1', 'under', 'articles,', 'as', 'it', 'was', 'a', 'short', 'article', 'with', 'little', 'or', 'no', 'context.', ':articles', 'on', 'wikipedia', 'should', 'generally', 'be', 'more', 'than', 'a', 'single', 'sentence', 'long', 'and', 'need', 'to', 'include', 'citations', 'from', 'reliable', 'sources', 'to', 'comply', 'with', 'the', 'verifiability', 'policy.', ':you', \"shouldn't\", 'put', 'an', 'article', 'up', 'before', \"you've\", 'got', 'these', 'added,', 'but', 'if', 'you', 'want', 'to', 'work', 'on', 'an', 'article', 'for', 'a', 'while,', 'you', 'can', 'create', 'a', 'user', 'subpage', 'and', 'work', 'on', 'the', 'article', 'there,', 'before', 'moving', 'it', 'to', 'the', 'desired', 'article', 'title', 'when', \"it's\", 'ready.', ':i', 'hope', 'that', 'this', 'experience', \"hasn't\", 'put', 'you', 'off', 'and', 'that', 'you', 'enjoy', 'being', 'a', 'wikipedian.', 'if', 'you', 'require', 'further', 'help', 'using', 'wikipedia,', 'please', 'place', 'a', 'message', 'on', 'wikipedia:help', 'desk', 'or', 'just', 'put', 'and', 'a', 'message', 'on', 'your', 'talk', 'page', 'and', 'someone', 'will', 'show', 'up', 'shortly', 'to', 'help.', '\"'], ['\"', ':there', 'are', 'now', 'four', 'references,', 'including', 'britannica,', 'giving', 'the', 'correct', 'date,', 'which', 'is', 'getting', 'silly.', 'you', 'complain', 'in', 'your', 'edit', 'summary', 'that', 'you', \"can't\", 'find', 'them,', 'so', \"i've\", 'added', 'quotes', 'to', 'two,', 'to', 'help', 'you', 'out.', 'after', 'that', \"you're\", 'on', 'your', 'own:', 'wp:sourceaccess', 'has', 'more', 'on', 'this.', \"i'm\", 'happy', 'to', 'concede', 'that', 'britannica,', 'alone,', 'mentions', 'the', 'date', 'you', 'offer', '(but', 'without', 'explaining', 'the', 'context),', 'so', \"that's\", 'one', 'of', 'the', 'sources', \"i've\", 'expanded', 'with', 'a', 'quote', 'specifically', 'mentioning', '23', 'august.', ':russian', 'wikipedia', 'has:', '\"\"23', 'августа', 'силы', '14-го', 'танкового', 'корпуса', 'армии', 'паулюса', 'вышли', 'к', 'волге', 'севернее', 'сталинграда\"\"', '(\"\"august', '23', 'forces', 'of', 'the', '14th', 'tank', 'corps,', 'army', '[of]', 'paulus,', 'reached', 'the', 'volga', 'north', 'of', 'stalingrad\"\"),', 'cited', 'from', 'the', 'war', 'diary', 'of', 'colonel-general', 'franz', 'haider.', ':', '\"'], ['her', 'body', 'is', 'perfect.', 'face,', 'boobs,', 'hips,', 'all', 'of', 'it.'], [':::::i', 'am', 'simply', 'relating', 'that', 'the', 'research', 'and', 'professional', 'organizations', 'are', 'essentially', 'unanimous', 'in', 'indicating', 'that', 'these', 'laws', 'are', 'not', 'having', 'the', 'intended', 'effects,', 'and', 'that', 'they', 'may', 'even', 'be', 'making', 'the', 'problem', 'worse.', 'you', 'are', 'entitled', 'to', 'your', 'opinion,', 'of', 'course,', 'but', 'your', 'comment', 'is', 'making', 'me', 'concerned', 'about', 'your', 'ability', 'to', 'keep', 'your', 'biases', 'out', 'of', 'your', 'edits.'], ['redirect', \"talk:kemp's\", 'thicket', 'rat'], ['\"', ':::::see', 'above', 'section', 'titled', '\"\"finsbury', 'park', 'mosque', 'and', 'islamic', 'hatred.\"\"', 'lestrade\"'], ['um,', 'taking', 'a', 'shot', 'here...', 'um', 'lets', 'say', 'three', 'separate', 'people', 'whos', 'wills', 'are', 'to', 'each', 'other.'], ['\"', '::use', 'of', '\"\"assisted', 'suicide\"\"', 'to', 'refer', 'to', 'aid', 'in', 'dying', 'is', 'inaccurate', 'in', 'fourth', 'distinctive', 'ways.', 'first,', 'it', 'was', 'coined', 'by', 'catholic', 'activists', 'disputing', \"oregon's\", 'measure', '16', 'in', '1994', '-', 'so', 'it', 'carries', 'a', 'political', 'bias.', 'second,', 'the', 'laws', 'in', 'oregon,', 'washington', 'and', 'vermont', 'each', 'do', 'not', 'contain', 'the', 'term', '\"\"assisted', 'suicide\"\"', 'but', 'use', 'aid', 'in', 'dying.', 'third,', 'assisting', 'a', 'suicide', 'remains', 'illegal', 'in', 'all', 'three', 'states', '-', 'and', 'also', 'montana', 'and', 'new', 'mexico.', 'no', 'state', 'attorney', 'general', 'or', 'county', 'district', 'attorney', 'has', 'charged', 'any', 'physician', 'or', 'pharmacist', 'who', 'acted', 'within', 'the', 'aid', 'in', 'dying', 'laws', 'of', 'the', 'three', 'states.', 'finally,', 'describing', 'people', 'who', 'use', 'aid', 'in', 'dying,', 'such', 'as', 'brittany', 'maynard,', 'suicides', 'grossly', 'misrepresents', 'their', 'experience', 'and', 'devalues', 'both', 'their', 'lives', 'and', 'deaths.', 'continued', 'usage', 'of', 'the', 'biased', 'and', 'inaccurate', 'term', 'should', 'be', 'amended', 'throughout', 'wikipedia.', '\"'], ['see', 'also', '.', '.', '.', 'http://arxiv.org/abs/hep-ph/0009204'], ['==', 'hello', '==', 'fuck', 'off', 'my', 'pagan', 'you', 'bareback', 'mancunt', 'pig', 'slut.'], ['==', 'must', 'be', 'said', '==', 'you', 'are', 'by', 'far', 'the', 'most', 'disrespectful,', 'malicious,', 'destructive', 'user', 'in', 'all', 'of', 'wikipedia.', \"it's\", 'people', 'like', 'you,', 'who', 'abuse', 'their', 'power,', 'that', 'make', 'this', 'site', 'defunct', 'or', 'obsolete'], ['may', '2010', 'please', 'stop.', 'if', 'you', 'continue', 'to', 'delete', 'or', 'edit', 'legitimate', 'talk', 'page', 'comments,', 'as', 'you', 'did', 'at', 'talk:deepwater', 'horizon', 'oil', 'spill,', 'you', 'may', 'be', 'blocked', 'for', 'vandalism.', ':if', 'this', 'is', 'a', 'shared', 'ip', 'address,', 'and', 'you', \"didn't\", 'make', 'the', 'edit,', 'consider', 'creating', 'an', 'account', 'for', 'yourself', 'so', 'you', 'can', 'avoid', 'further', 'irrelevant', 'notices.'], ['==', 'brandonyusoftoropov', 'has', 'requested', 'mediation', 'over', 'a', 'conflict', 'with', 'you', '==', 'ed,', '[user:brandonyusoftoropov|brandonyusoftoropov]', 'has', 'requested', 'mediation', 'over', 'a', 'conflict', 'with', 'you.', 'i', 'am', 'willing', 'to', 'mediate', 'the', 'dispute.', 'do', 'you', 'accept?', 'if', 'so,', 'please', 'end', 'me', 'an', 'email', 'at', 'pgunn@dachte.org.'], ['\"', 'august', '2006', '(utc)', ':::::a', 'simple', '\"\"you\\'re', 'wrong\"\"', 'would', 'have', 'sufficed.no', 'need', 'to', 'try', 'and', 'make', 'me', 'look', 'like', 'an', 'idiot', '13:01,', '10\"'], ['\"', ':that', 'is', 'ridiculous.', 'unless', \"there's\", 'a', 'good', 'and', 'non-disingenuous', 'response,', 'i', 'would', 'absolutely', 'agree', 'with', 'you', 'blocking', 'indef', 'outright.', 'falsifying', 'sources', 'should', 'simply', 'never', 'be', 'tolerated.', '//', '\"'], ['how', 'dare', 'you', 'vandalize', 'that', 'page', 'about', 'the', 'hms', 'beagle!', \"don't\", 'vandalize', 'again,', 'demon!'], ['\"i', 'moved', 'this', 'from', '\"\"quebec', 'diaspora\"\"', 'to', 'this', 'title', 'because', 'disapora', 'is', 'a', 'description', 'applicable', 'only', 'to', 'jews.', '\"'], ['knock', 'it', 'off', 'you', 'bloody', 'cwi', 'trot'], ['aapn', 'bhtla', 'aanand', 'jhala..'], ['\"', '***', 'not', 'via', 'archive.org,', 'but', 'i', 'can', 'and', 'have', 'read', 'the', 'petition', 'myself,', 'online.', \"it's\", 'a', 'primary', 'source', '(meaning,', 'a', 'letter', 'from', 'you,', 'the', 'subject,', 'not', 'a', 'secondary', 'source),', 'and', 'even', 'if', 'not', 'blacklisted,', \"can't\", 'really', 'be', 'used,', 'but', \"i've\", 'entered', 'some', 'followup', 'questions', 'to', 'admins', 'to', 'get', 'more', 'feedback.', '(i', 'know', 'the', 'whole', 'story', \"it's\", 'a', 'question', 'of', 'what', 'we', 'can', 'include', 'on', 'wiki,', 'per', 'wp:v', 'and', 'wp:rs.)', 'we', 'do', 'have', 'text', 'mentioning', 'the', 'petition', 'from', 'the', 'guardian,', 'cited', 'in', 'the', 'article', 'now.', '\"'], ['::no,', 'he', 'is', 'an', 'arrogant,', 'self', 'serving,', 'immature', 'idiot.', 'get', 'it', 'right.'], ['==', 'continued', 'vandalism', '==', 'this', 'user', 'continues', 'to', 'vandalize', 'articles.', 'it', 'should', 'be', 'blocked', 'from', 'editing.'], ['\"', '==proornis==', 'thank', 'you', 'for', 'adding', 'an', 'entry', 'for', 'proornis', 'on', 'wikipedia.', 'i', 'have', 'added', 'a', 'bit', 'more', 'info', 'and', 'correct', 'some', 'of', 'your', 'edits:', '*', 'try', 'to', 'use', 'the', 'taxobox', 'in', 'a', 'correct', 'manner.', 'in', 'your', 'case', 'you', 'added', 'dromaesauridae', 'as', 'a', 'family', 'of', 'archaeornithiformes', 'and', 'there', 'was', 'no', 'mention', 'of', 'the', 'genus', 'and', 'species.', '*', \"don't\", 'overcategorized', 'your', 'article.', 'proornis', 'to', 'my', 'knowledge', 'is', 'considered', 'a', 'basal', 'bird', 'and', 'do', 'not', 'really', 'fit', 'in', 'the', 'dinosaur', 'or', 'coelurosaur', 'categories.', '*', 'add', 'references', 'whenever', 'possible', '*', 'start', 'an', 'article', 'by', 'defining', 'the', 'subject.', 'for', 'instance:', '\"\"proornis\"\"', 'is', 'an', 'extinct', 'genus', 'of', 'bird', 'discovered', 'in', 'north', 'korea.', 'i', 'hope', 'you', 'will', 'be', 'able', 'to', 'follow', 'these', 'guidelines', 'when', 'you', 'will', 'be', 'creating', 'a', 'new', 'article.', 'if', 'you', 'need', 'help,', 'let', 'me', 'know.', '\"'], ['::ices', 'could', 'hardly', 'be', 'labelled', 'as', 'a', 'very', 'obviously', 'pro', 'seal', 'hunting', 'organization.', 'the', 'scientific', 'base', 'of', 'seal', 'management', 'is', 'the', 'responsibility', 'of', 'ices,', 'covered', 'out', 'by', 'the', 'most', 'prominent', 'seal', 'researchers', 'in', 'the', 'world.', 'i', 'would', 'guess', 'even', 'you', 'accept', 'that', 'as', 'a', 'npov.', '::nevertheless', 'i', 'appreciate', 'your', 'new', 'strategy', 'of', 'adding', 'information', 'even', 'though', 'i', 'still', 'find', 'it', 'rather', 'biased.', 'your', 'canadian', 'focus', 'makes', 'you', 'forget', 'that', 'the', 'atlantic', 'cod', 'is', 'more', 'than', 'the', 'weak', 'north-west', 'atlantic', 'cod', 'stock.', 'i', 'intend', 'to', 'make', 'a', 'few', 'corrections', 'if', 'you', \"don't\", 'mind.', 'but', \"don't\", 'worry,', 'i', 'will', 'not', 'delete', 'sections', '(like', 'you', 'just', 'did).', 'i', 'will', 'however', 'ask', 'you', 'to', 'be', 'a', 'little', 'bit', 'more', 'reserved', 'using', 'the', 'very', 'touchy', 'term', 'vandalism', 'when', 'people', 'edit', 'articles.'], [\"*:that's\", 'not', 'a', 'very', 'good', 'reason', 'not', 'to', 'move', 'it,', 'though.', 'people', \"don't\", 'use', \"'color'\", 'in', 'the', 'uk', 'either,', 'do', 'they?', 'keeping', 'it', 'at', 'cor', 'anglais', 'is', 'right', 'per', 'engvar,', 'however.'], ['\":::if', 'you', 'email', 'me', \"i'll\", 'reply', 'with', 'a', 'copy', 'of', 'the', 'pignotti', 'pdf.', \"it's\", 'not', 'at', 'all', 'controversial', 'that', 'eft', 'show', 'more', 'of', 'an', 'effect', 'than', 'some', 'treatments', 'in', 'some', 'conditions.', 'the', 'problem', 'is', 'that', 'eft', \"doesn't\", 'show', 'more', 'of', 'an', 'effect', 'than', 'talking', 'and', 'tapping', 'your', 'arm', 'or', 'talking', 'and', 'tapping', 'a', 'doll.', ':::second,', 'i', 'think', \"you're\", 'not', 'being', 'quite', 'forthright', 'when', 'you', 'describe', 'the', 'accupressure', 'citations', 'as', '\"\"controvert[ing]', 'this', 'conclusion\"\".', 'in', 'fact,', 'you', 'removed', 'the', 'last', 'two', 'and', 'silently', 'changed', 'the', 'other', 'two.', 'if', 'you', 'want', 'to', 'change', 'text', 'that', 'someone', 'has', 'already', 'responded', 'to,', 'please', 'use', 'and', '<\\\\s>,', 'like', 'this,', 'so', 'it', \"doesn't\", 'look', 'like', \"you're\", 'being', 'sneaky.', 'this', 'also', 'looks', 'like', \"you're\", 'throwing', 'in', 'every', 'citation', 'you', 'can', 'find', 'without', 'reading', 'or', 'understanding', 'them,', 'hoping', 'something', 'will', 'stick.', 'if', 'you', 'recall,', 'i', 'asked', 'for', 'one', 'pdf', 'and', \"we're\", 'now', 'at', 'numbers', '16', 'and', '17', 'and', \"you're\", 'just', 'now', 'learning', 'what', 'the', 'issues', 'are.', 'and,', 'after', 'taking', 'a', 'look,', 'neither', 'one', 'of', 'your', 'new', 'studies', 'has', 'anything', 'to', 'do', 'with', 'establishing', 'the', 'existence', 'of', '\"\"energy', 'systems', 'in', 'the', 'body\"\".', \":::i'm\", 'not', 'sure', 'what', 'to', 'say', 'at', 'this', 'point.', 'the', 'most', 'charitable', 'interpretation', 'i', 'can', 'come', 'up', 'with', 'is', 'that', \"you're\", 'not', 'reading', 'what', \"you're\", 'citing:', \"you're\", 'either', 'cutting', 'and', 'pasting', 'from', 'google', 'or', 'some', 'other', 'source.', 'alternatively', \"you're\", 'reading', 'all', 'of', 'these', 'papers', 'but', 'have', 'no', 'understanding', 'as', 'to', 'what', 'they', 'contain.', 'either', 'way,', 'you', 'might', 'want', 'to', 'consider', 'editing', 'articles', 'that', 'better', 'play', 'to', 'your', 'strengths.', ':::as', 'to', \"feinstein's\", 'rejoinder:', \"it's\", 'available', 'here.', 'this', 'is', 'an', 'excellent', 'lesson', 'in', 'tapdancing:', '::::[the', 'studies', 'he', 'found]', 'lend[]', 'support', 'for', 'the', 'efficacy', 'of', 'tapping', 'while', 'mentally', 'attuning', 'to', 'an', 'emotional', 'difficulty.', 'despite', 'the', 'design', 'flaws', 'found', 'in', 'some', 'of', 'the', 'studies,', 'the', 'preponderance', 'of', 'evidence', 'shows', 'energy', 'psychology', 'interventions', 'to', 'be', 'efficacious.', ':::the', 'first', 'sentence', 'is', 'true,', 'but', 'he', 'neglects', 'to', 'explain', 'why', 'arm-tapping', 'and', 'doll-tapping', 'have', 'equal', 'efficacy.', 'the', 'second', 'sentence', 'equates', 'talking', 'and', 'tapping', 'with', '\"\"energy', 'psychology\"\"', 'which', 'has', 'the', 'additional', 'baggage', 'of', 'energy', 'fields', 'that', 'can', 'evidently', 'migrate', 'to', 'arms', 'and', 'dolls.', ':::so', 'after', '18', 'citations', 'what', 'we', 'have', 'is', 'the', 'suggestion', 'that', 'a', 'particular', 'kind', 'of', 'talking', 'associated', 'with', 'some', 'sort', 'of', 'physical', 'ritual', 'can', 'be', 'more', 'helpful', 'than', 'other', 'treatments', 'in', 'some', 'situations.', 'i', 'would', 'be', 'comfortable', 'including', 'the', 'two', 'feinstein', 'reviews', 'if', 'the', 'shortcomings', 'pointed', 'out', 'in', 'pignotti', 'are', 'highlighted,', 'and', 'i', 'think', 'waite', '(2003)', 'deserves', 'a', 'paragraph.', 'i', \"don't\", 'see', 'an', 'argument', 'for', 'including', 'any', 'of', 'these', 'other', 'citations.', 'if', 'you', 'want', 'to', 'make', 'such', 'an', 'argument,', 'please', 'be', 'sure', 'to', 'read', 'the', 'citation', 'first', 'and', 'be', 'able', 'to', 'summarize', 'how', 'the', 'citation', 'supports', 'the', 'point', 'you', 'want', 'to', 'make.', '\"'], ['\"', 'you', 'wrote:', 'you', 'will', 'need', 'to', 'cite', 'reliable', 'sources', 'for', 'the', 'assertions', '\"\"far', 'too', 'large', 'to', 'be', 'chemical\"\"', 'and', '\"\"no', 'endothermic', 'storage', 'events\"\".', 'i', 'do', 'not', 'think', 'any', 'source', 'can', 'conclusively', 'estabish', 'either', 'point', '.', '.', '.', 'it', 'is', 'very', 'easy', 'to', 'establish', 'both', 'points,', 'and', 'there', 'are', 'hundreds', 'of', 'papers', 'with', 'proof', 'of', 'them.', '1.', 'the', 'limits', 'of', 'chemical', 'storage', '(electron', 'bonds)', 'are', 'well', 'understood.', 'the', 'most', 'energy', 'dense', 'chemicals,', 'such', 'as', 'gasoline,', 'store', '4', 'to', '8', 'ev', 'per', 'atom.', 'cold', 'fusion', 'reactions', 'have', 'often', 'produced', 'far', 'more', 'than', 'this,', 'ranging', 'from', '~100', 'to', '~100,000', 'ev', 'per', 'atom', 'of', 'the', 'material', 'in', 'the', 'cell,', 'and', 'in', 'all', 'cases', 'there', 'is', 'no', 'chemical', 'fuel', 'before', 'the', 'reaction,', 'and', 'no', 'chemical', 'ash', 'after', 'it', 'finishes.', 'cell', 'with', 'a', 'few', 'grams', 'of', 'inert', 'material', 'in', 'them', 'have', 'produced', 'hundreds', 'of', 'megajoules', 'of', 'heat', 'as', 'much', 'as', 'several', 'kilograms', 'of', 'gasoline.', 'if', 'you', 'were', 'to', 'burn', 'the', 'cell', 'contents,', 'they', 'would', 'produce', 'only', 'a', 'tiny', 'fraction', 'of', 'the', 'heat.', 'in', 'fact,', 'you', 'could', 'burn', 'the', 'cell,', 'the', 'table,', 'and', 'all', 'books', 'in', 'the', 'room', 'and', 'still', 'get', 'that', 'much', 'chemical', 'energy.', 'therefore,', 'chemistry', 'is', 'ruled', 'out.', '2.', 'any', 'calorimeter', 'can', 'measure', 'an', 'endothermic', 'event', 'as', 'accurately', 'as', 'it', 'measures', 'an', 'exothermic', 'event.', 'for', 'example,', 'all', 'calorimeters', 'used', 'in', 'these', 'studies', 'show', 'the', 'endothermic', 'formation', 'of', 'pd-d', 'at', 'the', 'beginning', 'of', 'the', 'experiment.', 'since', 'the', 'calorimeters', 'shows', 'the', 'exothermic', 'excess', 'heat,', 'they', 'would', 'also', 'show', 'the', 'endothermic', 'storage', 'that', 'proceeds', 'it.', 'they', 'have', 'never', 'done', 'this.', 'the', 'heat', 'balance', 'is', 'always', 'zero', 'before', 'the', 'heat', 'bursts,', 'and', 'after.', '-', 'jed', 'rothwell', 'here', 'is', 'more', 'useful', 'information', 'that', 'someone', 'keeps', 'erasing:', 'please', 'note', 'that', 'cal', 'tech', '(lewis', 'et', 'al.)', 'is', 'a', 'false', 'negative,', 'as', 'pointed', 'out', 'by', 'noninski,', 'miles', 'and', 'fleischmann.', 'this', 'is', 'described', 'in', 'several', 'papers,', 'for', 'example', 'this', 'one,', 'p.', '20:', 'http://lenr-canr.org/acrobat/milesmisoperibol.pdf', 'also,', 'the', 'name', 'is', 'julian', 'schwinger', '(with', 'ch).', 'see:', 'http://lenr-canr.org/acrobat/schwingerjcoldfusiona.pdf', '-', 'jed', 'rothwell,', 'librarian,', 'lenr-canr.org\"'], ['==image', 'copyright', 'problem', 'with', 'image:att2066652.jpg==', 'thanks', 'for', 'uploading', 'image:att2066652.jpg.', 'however,', 'the', 'image', 'may', 'soon', 'be', 'deleted', 'unless', 'we', 'can', 'determine', 'the', 'copyright', 'holder', 'and', 'copyright', 'status.', 'the', 'wikimedia', 'foundation', 'is', 'very', 'careful', 'about', 'the', 'images', 'included', 'in', 'wikipedia', 'because', 'of', 'copyright', 'law', '(see', \"wikipedia's\", 'copyright', 'policy).', 'the', 'copyright', 'holder', 'is', 'usually', 'the', 'creator,', 'the', \"creator's\", 'employer,', 'or', 'the', 'last', 'person', 'who', 'was', 'transferred', 'ownership', 'rights.', 'copyright', 'information', 'on', 'images', 'is', 'signified', 'using', 'copyright', 'templates.', 'the', 'three', 'basic', 'license', 'types', 'on', 'wikipedia', 'are', 'open', 'content,', 'public', 'domain,', 'and', 'fair', 'use.', 'find', 'the', 'appropriate', 'template', 'in', 'wikipedia:image', 'copyright', 'tags', 'and', 'place', 'it', 'on', 'the', 'image', 'page', 'like', 'this:', '{{templatename}}.', 'please', 'signify', 'the', 'copyright', 'information', 'on', 'any', 'other', 'images', 'you', 'have', 'uploaded', 'or', 'will', 'upload.', 'remember', 'that', 'images', 'without', 'this', 'important', 'information', 'can', 'be', 'deleted', 'by', 'an', 'administrator.', 'if', 'you', 'have', 'any', 'questions,', 'feel', 'free', 'to', 'contact', 'me,', 'or', 'ask', 'them', 'at', 'the', 'media', 'copyright', 'questions', 'page.', 'thank', 'you.'], [':thanks', 'for', 'the', 'comment', 'about', 'wiki-defenderness.', 'i', 'like', 'that', 'one.', 'i', 'usually', 'wikiling', 'wiki-defender.', 'i', 'agree', 'that', 'at', 'first', 'he', 'was', 'somewhat', 'innocent', 'but', 'now', 'have', 'my', 'doubts', 'as', 'he', 'is', 'being', 'really', 'agressive', 'about', 'the', 'whole', 'matter.'], [\"can't\", 'figure', 'out', 'why', 'he', 'redshirted.', 'no', 'sources.', '///wp:chicago/wp:four)', '*'], ['\"', '*', 'you', 'used', 'the', 'word', '\"\"saloon\"\"', 'to', 'describe', 'the', 'car.', 'in', 'american', 'english,', 'a', 'saloon', 'is', 'like', 'a', 'bar', 'or', 'pub,', 'so', 'i', 'believed', 'it', 'to', 'vandalism.', 'i', 'now', 'understand', 'that', 'saloon', 'in', 'british', 'english', 'is', 'a', 'sedan-like', 'car.', 'feel', 'free', 'to', 're-edit', 'the', 'article', 'to', 'include', 'the', 'information,', 'although', 'i', 'would', 'suggest', 'citing', '(wp:ref)', 'the', 'article', 'supporting', 'your', 'acceleration', 'stats.', 'cheers.', '\"'], [\"::you're\", 'funny.', 'ugly?', \"we're\", 'dudes', 'on', 'computers,', 'moron.', 'you', 'are', 'quite', 'astonishingly', 'stupid.'], ['it', 'might', 'not', 'have', 'been', 'your', 'intention,', 'but', 'your', 'recent', 'edit', 'removed', 'content', 'from', '.', 'please', 'be', 'careful', 'not', 'to', 'remove', 'content', 'from', 'wikipedia', 'without', 'a', 'valid', 'reason,', 'which', 'you', 'should', 'specify', 'in', 'the', 'edit', 'summary', 'or', 'on', 'the', \"article's\", 'talk', 'page.', 'take', 'a', 'look', 'at', 'our', 'welcome', 'page', 'to', 'learn', 'more', 'about', 'contributing', 'to', 'this', 'encyclopedia.', 'thank', 'you.', 'a', 'link', 'to', 'the', 'edit', 'i', 'have', 'reverted', 'can', 'be', 'found', 'here:', 'link.', 'if', 'you', 'believe', 'this', 'edit', 'should', 'not', 'have', 'been', 'reverted,', 'please', 'contact', 'me.', '||suggestions?'], ['agree,', 'but', \"that's\", 'not', 'the', 'issue.', 'the', 'queston', 'is,', 'in', 'everyday', 'english,', 'does', 'first', 'amendent', 'refer', 'primarily', 'to', 'the', 'us', 'constitution,', 'or', 'is', 'it', 'ambiguous?', 'my', 'belief', 'remains', 'that', 'even', 'fifth', 'amendment', 'is', 'ambiguous,', 'and', 'first', 'amendment', 'even', 'more', 'so.', '*'], ['\"', '==', 'main', 'towns', 'that', 'are', 'not', 'so', 'main', '==', 'i', 'know', 'that', 'you', 'love', 'to', 'write', 'a', 'one', 'sentence', 'article.', 'but,', 'if', 'you', 'want', 'to', 'do', 'that,', 'please,', 'at', 'least', 'do', 'it', 'properly.', 'stop', 'saying', '\"\"x', 'is', 'a', 'main', 'town', 'in', 'y,', 'z\"\".', 'what', 'is', 'so', 'main', 'about', 'obscure', 'towns?', '\"'], ['\"', 'my', 'comments', 'follow,', 'bluewillow991967', '-', \"i'm\", 'sorry', 'if', 'i', \"wasn't\", 'sufficiently', 'clear.', 'on', 'the', 'specific', 'subject', 'of', '\"\"first', 'serial\"\"', 'versus', '\"\"reprints\"\"', 'i', 'have', 'an', 'interest', 'because', 'i', 'write', 'commercial', 'fiction', 'for', 'a', 'living.', \"i'm\", 'not', 'saying', 'a', 'contract', 'would', 'contain', 'a', '\"\"non-standard', 'definition\"\"', 'of', 'first', 'serial,', 'original,', 'or', 'reprint.', \"i'm\", 'saying', 'that', 'you', 'quite', 'clearly', 'do', 'not', 'understand', 'the', '*standard*', 'definitions', 'in', 'publishing', 'commercial', 'fiction', 'of', 'first', 'serial,', 'original,', 'and', 'reprint.', '\"\"is\"\"', 'means', 'the', 'same', 'thing', 'in', 'plain', 'english', 'as', 'it', 'does', 'in', 'intellectual', 'property', 'terminology.', '\"\"reprint,\"\"', '\"\"original\"\"', 'and', '\"\"first', 'serial\"\"', 'mean', 'much', 'more', 'specific', 'things', 'in', 'intellectual', 'property', 'terminology', 'than', 'they', 'do', 'in', 'colloquial', 'english.', 'it', 'may', 'well', 'be', 'suitable', 'to', 'call', 'a', 'female', 'crotch', 'a', 'vagina', 'in', 'a', 'personal', 'blog,', 'but', 'in', 'an', 'encyclopedia', 'article', 'talking', 'about', 'female', 'genitalia,', 'it', 'matters', 'that', 'the', 'colloquially', 'used', 'term', 'is', 'factually', 'incorrect', 'and', 'the', 'correct', 'terminology', 'should', 'be', 'used.', 'if', 'the', 'correct', 'terminology', 'would', 'be', 'confusing', 'to', 'readers,', 'then', 'a', 'hyperlink', 'to', 'a', 'correct', 'definition', 'may', 'be', 'in', 'order.', 'you', 'are,', 'by', 'analogy,', 'effectively', 'insisting', 'that', 'a', 'set', 'of', 'labia', 'is', 'a', 'vagina.', '(sorry,', 'clearest', 'example', 'i', 'could', 'think', 'of', 'where', 'the', 'commonly', 'accepted', 'vernacular', 'term', \"shouldn't\", 'be', 'used', 'in', 'an', 'encyclopedia', 'article', 'because', \"it's\", 'wrong.)', '\"'], ['\"', '==', 'halliday', '==', 'good', 'to', 'see', 'another', 'contributor', 'to', 'his', 'article.', 'if', 'sfl', 'is', 'your', 'thing,', 'you', 'might', 'consider', 'joining', 'the', 'wikipedia:wikiproject_linguistics/sflsfl', 'taskforce.', 'thanks.', '\"'], ['\"', ':::', 'that', 'stephen', 'barrett', 'is', 'not', 'board', 'certified', 'is', 'not', 'a', 'viewpoint.', 'it', 'is', 'a', 'fact', '(a', 'well', 'documented', 'one', 'at', 'that).', 'i', \"don't\", 'see', 'how', 'wp:prominence', 'applies.', '\"'], ['stone', 'sour', 'sucks', 'anus'], [':could', 'you', 'do', 'a', 'precis', 'of', 'the', 'material', 'instead', 'of', 'just', 'downloading', 'a', 'whole', 'lot', 'of', 'stuff', 'from', 'somewhere', 'else', 'on', 'the', 'internet?', 'i', 'am', 'only', 'one', 'editor', 'here,', 'but', 'i', 'do', 'feel', 'that', 'the', 'material', 'you', 'have', 'provided', 'could', 'be', 'cut', 'down', 'to', 'fit', 'the', 'format', 'of', 'this', 'article.', 'more', 'info', 'could', 'be', 'provided', 'in', 'a', 'seperate', 'wikipedia', 'article', 'if', 'necessary.'], ['please', 'stop.', 'if', 'you', 'continue', 'to', 'vandalize', 'wikipedia,', 'as', 'you', 'did', 'to', 'kmart,', 'you', 'will', 'be', 'blocked', 'from', 'editing.', ':if', 'this', 'is', 'a', 'shared', 'ip', 'address,', 'and', 'you', \"didn't\", 'make', 'any', 'unconstructive', 'edits,', 'consider', 'creating', 'an', 'account', 'for', 'yourself', 'so', 'you', 'can', 'avoid', 'further', 'irrelevant', 'warnings.'], ['i', 'was', 'merely', 'apologising', 'for', 'my', 'interference', ';)'], ['::::uhm', 'people,', 'just', 'a', 'short', 'reality', 'check.', 'question:', 'we', 'have', 'verified', 'that', '90%', 'of', 'what', 'this', 'article', 'is', 'based', 'on', 'is', 'bogus,', 'entered', 'by', 'sockpuppets,', 'targetted', 'to', 'dupe', 'casual', 'visitors', 'into', 'believing', 'that', 'this', 'individual', 'is', 'important.', 'based', 'on', 'this', 'evidence,', 'why', 'do', 'you', 'continue', 'to', 'invest', 'countless', 'hours', 'to', 'find', 'info', 'about', 'a', 'bogus', 'fraudster?', 'do', 'you', 'really', 'think', 'your', 'time', 'is', 'well', 'invested', 'here?', 'i', 'really', \"don't\", 'get', 'it,', 'by', 'know,', 'many', 'of', 'you', 'must', 'have', 'invested', 'more', 'hours', 'to', 'debunk', 'and', 'enhance', 'the', 'article', 'that', 'original', 'sockpuppeteer', 'has', 'invested', 'himself.', 'do', 'you', 'really', 'think', 'that', 'your', 'time', 'and', 'work', 'is', 'worth', 'it?', 'do', 'you', 'really', 'think', 'that', 'working', 'on', 'such', 'a', 'small,', 'unimportant', 'article', 'in', 'the', 'big', 'picture', 'is', 'worth', 'your', 'time?', \"i'm\", 'not', 'flaming', 'or', 'cursing,', \"i'm\", 'genuinely', 'interested', 'what', 'inner', 'fire', 'you', 'girls', 'and', 'guys', 'still', 'keep', 'on', 'going', 'with', 'this', 'article.', \"don't\", 'you', 'just', 'have', 'had', '-', 'enough?', 'your', 'time', 'must', 'be', 'in', 'the', 'dozens', 'of', 'hours', 'already', '-', 'for', 'those', 'few', 'lines?', 'is', 'that', 'worth', 'it?', \"aren't\", 'there', 'other', 'article', 'that', 'deserve', 'more', 'attention?', 'like', 'i', 'said,', \"i'm\", 'curious', 'why', 'you', 'guys', \"don't\", 'think', 'your', 'time', 'can', 'be', 'invested', 'into', 'something', 'else', 'with', 'more', 'value?', 'do', 'you', 'really', 'think', 'that', 'your', 'work', 'is', 'invested', 'well', 'here?', 'as', 'i', 'said,', 'i', 'am', 'really', 'interested', 'in', 'your', 'answers,', 'not', 'flaming', 'or', 'anything.'], ['\"', '==', 'catdiffuse', '==', 'i', 'think', 'the', 'best', 'idea', 'would', 'be', 'to', 'check', 'its', 'whatlinkshere', 'every', 'now', 'and', 'then', 'and', 'make', 'sure', 'the', 'tag', 'only', 'shows', 'up', 'in', 'cats', 'where', \"it's\", 'appropriate.', 'frankly', 'i', \"don't\", 'think', \"there's\", 'much', 'point', 'to', 'the', 'tag', 'since', 'most', 'people', \"don't\", 'read', 'cat', 'pages,', 'just', 'cat', 'contents.', '\"'], ['\"', '==', 'cloud', 'feedback', '==', 'why', 'is', 'cloud', 'feedback', 'only', 'under', 'the', 'positive', 'feedbacks?', 'just', 'about', 'any', 'paper', 'states', 'that', 'it', 'can', 'be', 'both.', 'that', 'the', 'ipcc', 'states', 'that', 'it', 'is', '\"\"more', 'likely', 'a', 'positive', 'than', 'a', 'negative', 'feedback\"\"', \"doesn't\", 'change', 'that.', '\"'], ['avg,', 'plenty', 'of', 'greeks', 'love', 'the', 'king.', 'stop', 'acting', 'like', 'all', 'greeks', 'hate', 'him.', 'you', 'just', 'parrot', 'what', 'the', 'government', 'tells', 'us', 'via', 'their', \"'media.'\", 'we', 'greeks', 'asked', 'george', 'i', 'to', 'be', 'our', 'king.', 'we', 'supported', 'them.', 'they', 'reclaimed', 'much', 'of', 'our', 'lands.', 'we', 'voted', 'to', 'keep', 'them', 'numerous', 'times.', 'in', 'the', \"1930's\", 'by', '97%', 'vote!', 'also,', 'he', 'tried', 'to', 'overthrow', 'the', 'dictators.', 'read', 'a', 'book.', 'the', 'greek', 'government', 'is', 'the', 'biggest', 'liars.', 'the', 'us', \"didn't\", 'want', 'us', 'to', 'have', 'our', 'king', 'and', 'our', 'claim', 'to', 'constantinople/asia', 'minor.', 'he', 'is', 'a', 'direct', 'descendant', 'of', 'five', 'greek', 'imperial', '(byzantine)', 'dynasties', '(monomachos,', 'comnenos,', 'laskaris,', 'angelos,', 'and', 'paleologos).'], ['==', 'roman', 'general', 'agricola', 'and', 'the', 'battle', 'of', 'mons', 'graupius', '==', 'in', 'the', 'total', 'war#early', 'history', 'section,', 'it', 'claims', 'that', 'the', 'ancient', 'romans', 'practiced', 'total', 'war', 'in', 'caledonia', '(now', 'scotland).', 'however,', 'neither', 'gnaeus', 'julius', 'agricola', 'nor', 'battle', 'of', 'mons', 'graupius', 'confirm', 'or', 'even', 'address', 'these', 'claims', 'of', 'noncombatants', 'being', 'killed.', '|'], ['this', 'is', 'a', 'redirect', 'discussion', 'page.', 'please', 'do', 'not', 'leave', 'article', 'related', 'discussion', 'here.', 'please', 'go', 'to', 'the', \"article's\", 'discussion', 'page.'], ['*', 'maybe', 'you', 'should', 'have', 'a', 'read', 'of', 'that', 'one', 'too.', 'since', \"i've\", 'decided', 'to', 'assist', 'with', 'articles', 'on', 'wikipedia,', 'you', 'have', 'made', 'the', 'experience', 'nothing', 'but', 'hell', 'you', 'piece', 'of', 'shit.', 'pull', 'your', 'finger', 'out', 'of', 'your', 'bureaucratic', 'arse', 'and', 'rot', 'in', 'hell.'], ['==', 'second', 'issue', '==', \"i'm\", 'thinking', 'we', 'need', 'a', 'taxonomy', 'section;', 'there', 'are', 'things', 'that', \"aren't\", 'really', 'as', 'clear', 'as', 'they', 'maybe', 'could', 'be.', 'why', 'is/what', 'specific', 'findings', 'about', 'the', 'fossils', 'places', 'r.', 'narmadensis', 'in', 'the', 'subfamily', 'carnotaurinae?', 'why', \"'princely\", 'lizard', 'of', 'the', \"narmada';\", 'is', 'that', 'significant', 'as', 'to', 'the', 'stature/behavior/predatorial', 'prowess', 'of', 'r.', 'narmadensis?', 'if', 'there', 'is', 'anything', 'more', 'precise', 'on', 'its', 'taxonomy,', 'such', 'as', 'that,', 'it', 'would', 'be', 'great', 'to', 'add.'], ['\"', '==', 'hey', 'man', '==', 'i', 'saw', 'you', 'removing', 'all', 'the', 'fair', 'use', 'images', 'from', 'jimi', 'hendrix', 'discography.', \"it's\", 'a', 'bitch', 'to', 'do', 'it,', 'but', 'good', 'job', 'doing', 'the', 'right', 'thing.', 'right', 'now', \"i'm\", 'going', 'through', 'a', 'lot', 'of', 'artist', 'and', 'discography', 'pages', 'looking', 'for', 'album', 'covers', 'to', 'get', 'rid', 'of', 'and', 'other', 'bad', 'images.', 'you', 'got', 'my', 'back.', 'keep', 'up', 'the', 'good', 'work.++++', '\"'], [':', 'but', \"there's\", 'only', 'one', 'ep', 'and', 'one', 'album,', 'which', 'is', 'really', 'also', 'an', 'ep.', 'even', 'in', 'the', '70s,', 'it', 'would', 'have', 'been', 'considered', 'an', 'ep,', 'although', 'it', 'could', 'have', 'been', 'considered', 'an', 'album', 'by', 'length', 'in', 'the', '50s', 'or', 'the', '60s.', 'this', 'is', 'my', 'point.', 'they', \"don't\", 'have', 'two', 'full-length', 'albums.'], ['\"', ':hi', 'olly,', 'by', 'moderator', 'do', 'you', 'mean', 'administrator?', 'there', 'all', 'no', 'official', 'requirements', 'needed', 'to', 'become', 'an', 'administrator,', 'however,', 'the', 'wikipedia', 'community', 'must', 'decide', 'in', 'favor', 'of', 'your', 'request', 'in', 'order', 'to', 'be', 'granted', 'the', 'rights.', 'therefore,', 'in', 'order', 'to', 'have', 'a', 'successful', 'request,', 'you', 'must', 'show', 'experience', 'and', 'trustworthiness', 'throughout', 'your', 'edits', 'over', 'a', 'period', 'of', 'time.', 'this', 'period', 'of', 'time', 'has', 'not', 'set', 'length,', 'but', 'more', 'experience', 'is', 'favored', 'over', 'less.', 'i', 'hope', 'this', 'helps,', '\"'], ['পরিচয়', 'নাম-মোঃফরহাদ', 'ইসলাম', 'পিতা-মোঃ', 'শাহজাহান', 'মিয়া', 'মাতা-মোছাঃফাহিমা', 'বেগম', 'গ্রামঃ', 'জানকিপুর', 'সলই', 'মন্ডল', 'পাড়া', 'ইউনিয়নঃনিলাখিয়া', 'উপজেলাঃবকশীগঞ্জ', 'জেলাঃজামালপুর', 'বিভাগঃঢাকা', '।।।।।।।।।।।।।।।', 'আমি', '১৯৯৭', 'সালের', '২০.জানুয়ারি', 'আমার', 'নানার', 'বাড়িতে', 'জন্মগ্রহণ', 'করি।', '২০০০', 'সালে', 'নিজ', 'গ্রামের', 'স্কুলে', 'ভর্তি', 'হয়', 'এবং', 'ওই', 'স্কুল', 'থেকেই', 'প্রাইমারি', 'লেবেল', 'শেষ', 'করি।২০০৬', 'সালে', 'ভর্তি', 'নিজ', 'ইউনিয়নের', 'নিলাখিয়া', 'আর', 'জে', 'পাইলট', 'উচ্চ', 'বিদ্যালয়ে', '৬ষ্ঠ', 'শ্রেনীতে', 'এবং', 'সেখানে', 'ক্লাস', 'এইট', 'পর্যন্ত', 'পড়ি।।', 'পরে', 'ভর্তি', 'হই', 'বকশীগঞ্জ', 'টি.ভি.আই', 'এ', 'সেখান', 'থেকে', '২০১২', 'সালে', 'এস', 'এস', 'সি', 'পাশ', 'করি।তার', 'পর', 'টেক্সটাইল', 'এ', 'ডিপ্লোমা', 'করার', 'জন্য', 'ভর্তি', 'হলাম', 'শহীদ', 'আব্দুর', 'রব', 'সেরনিয়াবাত', 'টেক্সটাইল', 'ইঞ্জিনিয়ারিং', 'কলেজ,বরিশাল।', 'বর্তমানে', 'আমি', 'এই', 'কলেজে', '৬ষ্ঠ', 'সেমিস্টার', 'এর', 'এক', 'জন', 'ছাত্র।।'], ['==', 'scholarly', 'corroboration', 'of', 'folklore', '==', 'my', 'understanding', 'is', 'that', 'folklore', 'can', 'provide', 'clues', 'to', 'history,', 'medicine,', 'and', 'other', 'areas', 'of', 'scholarship', 'that', 'can', 'be', 'verified,', 'in', 'part,', 'through', 'archaeology,', 'biology,', 'and', 'so', 'on,', 'but', 'i', \"don't\", 'have', 'any', 'sources', 'handy', 'or', 'for', 'which', 'i', 'recall', 'titles.', 'if', 'anyone', 'does,', 'please', 'add', 'a', 'section', 'to', 'the', 'article', 'about', 'scholarly', 'confirmation.', 'we', 'could', 'do', 'the', 'same', 'for', 'disconfirmation,', 'but', \"there's\", 'plenty', 'on', 'that', 'in', 'many', 'places,', 'usually', 'in', 'the', 'form', 'of', 'debunking', 'based', 'on', 'a', 'lack', 'of', 'scientific', 'evidence,', 'which', 'is', 'a', 'weaker', 'standard', 'than', 'positive', 'evidence.', 'thanks.'], ['==redirects==', 'トレイン・トレイン,', 'トレイン', 'トレイン,', 'トレイントレイン,', 'トレイン-トレイン,', 'トレイン+トレイン,', 'トレイン*トレイン,', 'トレイン,', 'トレイン,', 'トレィン☆トレィン,', 'torein・torein,', 'torein', 'torein,', 'torein-torein,', 'torein+torein,', 'torein*torein,', 'torein,', 'torein,', 'torein☆torein,', 'train・train,', 'train☆train,', 'トレイン—トレイン,', 'torein—torein,', 'train—train,', 'トレイン–トレイン,', 'torein–torein,', 'train–train', 'should', 'redirect', 'here'], ['\"::i', 'respect', 'your', 'point', 'of', 'view,', 'and', 'when', 'this', 'discussion', 'originated', 'on', '8th', 'april', 'i', 'would', 'have', 'tended', 'to', 'agree', 'with', 'you.', 'however', 'today', 'this', 'is', 'now', 'being', 'mentioned', 'by', 'multiple', 'expert', 'sources.', 'the', 'opinion', 'of', 'f1', 'driver', 'pastor', 'maldonado', 'is', '\"\"the', 'rules', 'are', 'the', 'same', 'for', 'everyone,', 'so', 'you', 'need', 'to', 'avoid', 'incidents', '...', 'but', 'at', 'the', 'same', 'time', '[the', 'threat', 'of', 'penalties', 'means]', 'you', 'cannot', 'race,', 'you', 'need', 'to', 'only', 'stay', 'on', 'track', 'and', 'wait', 'for', 'problems.\"\"', '(original', 'article', 'is', 'behind', 'paywall', 'on', 'autosport).', 'this', 'issue', 'was', 'also', 'discussed', 'and', 'recognized', 'by', 'expert', 'commentators', 'during', 'sky', 'sports', 'f1', 'chinese', 'gp', 'free', 'practice', '1.', 'i', 'will', 'be', 'adding', 'this', 'section', 'back', 'to', 'the', 'article', 'with', 'appropriate', 'references.', '\"'], ['i', 'would', 'like', 'to', 'take', 'a', 'moment', 'of', 'my', 'time', 'to', 'apologize', 'for', 'leaving', 'my', 'workstation', 'long', 'enough', 'for', 'an', 'idiot', 'to', 'use', 'my', 'ip', 'to', 'be', 'an', 'idiot...', 'it', 'wont', 'happen', 'again,', 'i', 'promise.', 'im', 'sure', 'he', 'meant', 'this', 'hyde,', 'who,', 'as', 'it', 'turns', 'out,', 'is', 'male.', 'he', 'has', 'been', 'explained', 'to', 'why', 'that', 'was', 'vandalism,', 'and', 'why', 'obsessing', 'over', 'jrock', 'is', 'silly.'], ['السلام', 'عليكم', 'و', 'رحمة', 'الله', 'و', 'بركاته', 'الا', 'الجميع', 'تفضلوا', 'جميعا'], ['\"', '::::::::::::::another', 'priceless', 'gem', 'from', 'yourself', 'demonstrating', 'your', 'general', 'cluelessness:', ',\"\"the', 'fuse', 'rating', '(and', 'therefore', 'the', 'plug', 'rating', 'in', 'the', 'case', 'of', 'a', 'non-rewireable', 'plug)', 'is', 'determined', 'by', 'the', 'cable', 'attached,', 'not', 'the', 'appliance', 'it', 'will', 'be', 'used', 'with.\"\".', 'where', 'on', 'earth', 'did', 'you', 'dig', 'that', 'nonsense', 'up', 'from?', 'there', 'are', 'plenty', 'of', 'good', 'examples', 'around,', 'but', 'medium', 'to', 'large', 'switch', 'mode', 'power', 'supplies', 'are', 'often', 'supplied', 'with', 'nominally', '3', 'amp', 'cable', 'in', 'a', 'moulded', 'on', 'plug,', 'many', 'with', 'an', 'iec', '60320', 'c7', 'type', 'plug', '(rated', 'by', 'that', 'standard', 'at', '2.5', 'amps).', 'according', 'to', 'you,', 'the', 'plug', 'should', 'therefore', 'be', 'fitted', 'with', 'a', '3', 'amp', 'fuse', '(determined', 'by', 'the', 'cable).', 'if', 'you', 'did', 'so,', 'you', 'would', 'never', 'get', 'any', 'but', 'the', 'smallest', 'power', 'supplies', 'running.', 'you', 'have', 'to', 'fit', 'a', '5', 'amp', 'fuse', 'because', 'the', 'very', 'large', '>40', 'amp', 'momentary', 'inrush', 'current', 'lasts', 'long', 'enough', 'that', 'it', 'will', 'blow', 'a', '3', 'amp', 'fuse.', 'the', 'cable', 'and', 'plug', 'can', 'retain', 'their', 'original', 'ratings', 'because', 'the', 'inrush', 'current', 'will', 'not', 'harm', 'them.', 'the', 'rating', 'of', 'the', 'fuse', 'is', 'determined', 'by', 'much', 'much', 'more', 'than', 'the', 'cable', 'size', 'alone.', 'indeed,', 'the', 'type', 'of', 'power', 'supply', 'that', 'is', 'built', 'into', 'a', 'plug', 'usually', 'has', 'no', 'fuse', 'at', 'all!', '17:17\"'], ['\"this', 'is', 'just', 'bizarre.', 'ani', \"medjool's\", 'abuse', 'of', 'wikipedia', 'rules', 'gets', 'rewarded,', 'and', 'then', 'he', 'awards', 'you', 'a', 'barnstar.', 'wtf?', 'anyhow', 'a', 'new', 'person,', 'adept', 'at', 'ridicule,', 'has', 'joined', 'in', 'the', 'conversation', 'at', 'falafel.', 'sigh...', '\"'], [\":::they're\", 'good', 'enough', 'that', 'they', 'can', 'no', 'longer', 'be', 'considered', 'for', 'speedy', 'deletion.', 'the', 'rationales', 'are', 'acceptable;', 'the', 'actual', 'use', 'may', 'still', 'be', 'an', 'issue', 'needing', 'review,', 'and', 'that', 'i', 'would', 'take', 'to', 'ffd', 'if', 'necessary.'], ['\"', ':understandable.', \"i've\", 'had', 'a', 'lot', 'of', 'problems', 'with', 'him', 'in', 'the', 'past,', 'too,', 'particularly', 'in', 'regard', 'to', 'copyright', 'violations', 'and,', 'more', 'recently,', 'grammar', 'and', 'style.', 'but,', 'as', 'far', 'as', 'this', 'issue', 'goes:', 'what,', 'do', 'you', 'just', 'want', 'me', 'to', 'block', 'both', 'of', 'you', 'for', '24', 'hours?', '—', \"''''''\", '\"'], ['\"', 'firstly', 'still', 'making', 'undiffable', 'edits', 'and', 'refusing', 'to', 'use', 'edit', 'summaries', 'is', 'becoming', 'a', 'behavioural', 'issue', 'that', 'will', 'need', 'to', 'be', 'escalated', 'if', 'it', \"doesn't\", 'stop.', 'gun,', 'i', 'really', \"don't\", 'understand', 'why', 'you', 'find', 'it', 'so', 'hard', 'to', 'follow', 'the', 'basic', 'standards', 'of', 'behaviour', 'required', 'to', 'edit', 'in', 'a', 'collaborative', 'environment.', 'secondly,', '\"\"announcing\"\"', 'changes', 'on', \"someone's\", 'talk', 'page', \"doesn't\", 'really', 'count', 'as', 'discussing', 'them', 'collaboratively,', 'rather', 'it', 'means', 'you', 'discussed', 'it', 'with', 'me.', 'furthermore', 'i', 'told', 'you', 'to', 'go', 'to', 'the', 'npov', 'noticeboard', 'to', 'raise', 'the', 'state', 'university', 'vs', 'university', 'issue', 'if', 'you', 'wanted', 'to', 'discuss', 'the', 'issue,', 'which', 'you', 'a)', 'failed', 'to', 'do,', 'b)', 'you', 'removed', 'the', 'disputed', 'tag', 'from', 'the', 'article', 'without', 'a', 'result', '(as', 'i', 'suggested', 'waiting', 'until', 'later),', 'c)', 'you', 'made', 'yet', 'another', 'diff', 'which', 'contained', 'a', 'large', 'number', 'of', 'other', 'unknown,', 'unknowable', 'and', 'undisucssed', 'changes', 'to', 'the', 'article.', '<>', '\"'], ['\"', '==name', 'in', 'the', 'introductory', 'paragraph==', \"i've\", 'always', 'been', 'told', 'that', 'using', '\"\"dr.\"\"', '&', '\"\"ph.d.\"\"', 'in', 'the', 'same', 'name', 'was', 'incorrect,', 'as', 'the', 'ph.d.', 'automatically', 'conferred', 'the', 'status', 'of', 'doctor.', 'however,', \"i'm\", 'not', 'sure', 'what', 'to', 'do', 'in', 'this', 'case.', 'since', 'he', 'is', 'so', 'well-known', 'as', '\"\"dr.', 'martin', 'luther', 'king,', 'jr.,\"\"', 'the', 'normal', 'approach', 'of', 'dropping', '\"\"dr.\"\"', 'and', 'keeping', '\"\"ph.d.\"\"', \"doesn't\", 'seem', 'to', 'be', 'the', 'best', 'answer,', 'even', 'though', \"it's\", 'the', 'one', 'most', 'style', 'guides', 'seem', 'to', 'endorse.', 'would', 'someone', 'more', 'intimately', 'familliar', 'with', 'the', 'article', 'like', 'to', 'take', 'a', 'swing', 'at', 'changing', 'it,', 'or', 'suggesting', 'an', 'alternative?', '\"'], ['to', 'fuck', 'you', 'and', 'ur', 'family'], ['==', 'mrpainkiller,', 'neurophyte', 'and', 'jean-philippe', '==', 'after', 'a', 'complaint', 'at', 'intervention', 'against', 'vandalism,', 'i', 'protected', 'the', 'article', 'vampirefreaks.com.', 'it', 'was', 'either', 'that,', 'or', 'block', 'all', 'of', 'you', 'for', 'disruption', 'and', 'personal', 'attacks.', 'i', 'will', 'unprotect', 'the', 'article', 'in', 'the', 'morning.', 'in', 'the', 'meantime,', 'please', 'consider', 'the', 'following:', '*reverting', 'another', \"user's\", 'talk', 'page', 'is', 'pretty', 'rude.', 'there', 'is', 'a', 'policy', 'conflict', 'between', 'the', 'user', 'talk', 'page', 'policy,', 'which', 'says', 'users', 'can', 'blank', 'or', 'archive', 'warnings', '(although', 'archiving', 'is', 'preferred', 'by', 'the', 'community)', 'and', 'the', 'vandalism', 'policy,', 'which', 'says', 'that', 'removing', 'warnings', 'given', 'to', 'you', 'is', 'vandalism.', 'i', \"don't\", 'agree', 'with', 'the', 'vandalism', 'point', 'of', 'view,', 'and', 'i', \"haven't\", 'seen', 'a', 'lot', 'of', 'support', 'for', 'it', 'lately', 'except', 'among', 'people', 'who', 'are', 'fighting', 'amongst', 'themselves', 'for', 'other', 'reasons.', 'if', 'someone', 'deletes', 'a', 'warning', \"they've\", 'obviously', 'seen', 'it.', 'if', 'you', 'are', 'concerned', 'about', \"someone's\", 'edits,', 'use', 'a', 'verbose', 'edit', 'summary', 'so', 'that', 'even', 'if', 'the', 'warning', 'is', 'removed', 'the', 'edit', 'summary', 'will', 'be', 'visible.', '*i', 'understand', 'there', 'is', 'a', 'view', 'among', 'two', 'of', 'you', 'that', \"mrpainkiller7's\", 'edits', 'are', 'detrimental', 'to', 'the', 'article.', 'there', 'are', 'lots', 'of', 'right', 'ways', 'to', 'deal', 'with', 'this,', 'including', 'editing', 'by', 'consensus,', 'request', 'for', 'comment', 'on', 'the', 'article', 'or', 'the', 'user,', 'mediation,', 'and', 'third', 'opinion.', \"i'm\", 'not', 'going', 'to', 'judge', 'the', 'content,', 'but', 'fighting', '(wherever', 'it', 'occurs)', 'is', 'the', 'wrong', 'way', 'to', 'deal', 'with', 'the', 'problem.', '*personal', 'attacks', 'are', 'not', 'to', 'be', 'tolerated.', 'please', 'deal', 'with', 'the', 'content', 'of', 'edits,', 'not', 'character.', \"i'm\", 'leaving', 'this', 'message', 'with', 'each', 'of', 'you.', 'if', 'you', 'keep', 'fighting', 'over', 'talk', 'pages,', 'i', 'suppose', 'i', 'or', 'another', 'admin', 'will', 'eventually', 'figure', \"it's\", 'time', 'to', 'block', 'someone.', 'unless', 'you', 'are', 'positive', 'that', 'you', 'are', '100%', 'right', 'and', 'the', 'other', 'guy', 'is', '100%', 'wrong,', 'you', 'should', 'probably', 'try', 'and', 'work', 'this', 'out', 'peacefully', 'in', 'case', 'the', 'admins', \"don't\", 'see', 'things', 'your', 'way.'], ['==', 'hrthrtdghrsdtghtrsdhtrhdgthjrtgh', '==', 'fffffffffffffffffffffffffffffffffffffffffffffffffffffffffffffffffffffffffffffhngviudfhgoiuerhgukfhkjgeruighervyfdohgobvijgfjgojfdhgjofhglkfhboerhgbdhoifdtyklerbhlkjhbdjgbojtgofgjrfjhlrkhilebotrjbh9jtrohibjrtlhujty;junmoytijoryjhigfjhgfjnifgjgfhkljtgilhjfdojgfdojgfkjngfdlkjgnklfgikfvihgifbfhbgkufbdsukfgglkdhvureuhgiurhgh4irtgyrehgui4t7iryggoifhgo54oerygtjeiygut8gopfe8gig89fjhg9r8tyr8hygb7hruegfigust8g0r0retugrijtrir6tihviurhgnviurwt,kcnguiergvknfgioerpjgklfupgrojgoirutkdhgl;rehgljkgyuorihfgiurwyhoug6y3oi4hg98w6u', 'jtgnkjryt9jgoidug059jgiufd7teurjg98etujoijfgiosdug', '0945ojtg0o8reuyjurfi', 'ug945uj', 'ygoip5uj5tg;eoiu495yp;w8y5urtg9ui8hui9g85w4mftmuv89tny0uvg8ytihguihfdkjvhu4krngkfdjs', 'hgkjfghoeruygrhy', 'goh', 'tgoiugkiughgvhghghghhgghhghghghghghghghhhhhgtherkgheefjgsefdghh'], ['hi', 'frankie', 'how', 'are', 'you', 'i', 'heard', 'you', 'like', 'to', 'suck', 'fat', 'dick', 'and', 'put', 'it', 'in', 'your', 'ear', 'wholes'], ['\"=outside', 'input===', \"*i've\", 'given', 'this', 'debate', 'a', 'bit', 'of', 'a', 'read', 'through,', 'and', 'for', 'the', 'most', 'part,', 'it', 'seems', 'clear', 'that', 'although', 'the', 'actual', 'content', 'of', 'many', 'of', 'may', 'be', 'important,', 'they', 'are', 'presented', 'in', 'an', 'extremely', 'pov', 'manner', 'that', 'imo', 'smells', 'agenda-pushing.', 'issues', '(ii)', 'and', '(vii)', 'below', 'are', 'prime', 'examples', 'of', 'that,', 'though', 'the', 'rest', 'work', 'as', 'well.', 'the', 'key', 'here', 'that', 'i', 'think', 'golddragon', 'needs', 'to', 'understand', '(and', 'trust', 'me,', 'i', 'have', 'experience', 'with', 'pov', 'pushers)', 'is', 'that', 'wikipedia', 'is', 'not', 'a', 'place', 'to', 'campaign,', 'all', 'additions', 'to', 'the', 'article', 'need', 'to', 'be', 'entirely', 'factual', 'and', 'presented', 'in', 'a', 'clearly', 'neutral', 'manner', '-', 'something', 'that', 'seems', 'to', 'have', 'done', 'well.', \"golddragon's\", 'edits', '(specifically', 'the', 'ones', 'identified', 'as', 'contentious', 'in', 'this', 'discussion)', 'should', 'be', 'reworked', 'to', 'be', 'presented', 'in', 'a', 'neutral', 'manner,', 'or', 'else', 'removed.', 'in', 'addition,', 'this', 'issue', 'of', 'what', 'is', 'notable', 'enough', 'for', 'inclusion', 'has', 'come', 'up', 'often', 'in', 'my', 'own', 'disputes.', 'the', 'most', 'useful', 'tool', \"i've\", 'come', 'up', 'with', 'to', 'deal', 'with', 'this', 'is', 'to', 'ask', 'myself', '\"\"will', 'the', 'average,', 'a-political', 'torontonian', 'find', 'this', 'information', 'useful?\"\"', 'things', 'like', 'the', 'election', 'sign', 'business', 'for', 'example;', 'while', 'interesting', 'to', 'those', 'who', 'are', 'intensely', 'involved,', 'if', 'you', 'were', 'to', 'ask', 'the', 'average', 'person,', \"they'd\", 'probably', 'say', 'something', 'along', 'the', 'lines', 'of', '\"\"who', 'cares?\"\"', 'that,', 'i', 'find,', 'is', 'a', 'good', 'measure', 'of', 'notability', 'when', 'dealing', 'with', 'trivia', 'in', 'politician', 'articles', '==\"'], ['==', 'black', 'mamba', '==', 'it.is', 'ponious', 'snake', 'of', 'the', 'word', 'and', 'but', 'it', 'not', 'kills', 'many', 'people', 'but', 'king', 'cobra', 'kills', 'many', 'people', 'in', 'india'], ['2005', '(utc)', ':::::', 'fuck', 'you,', 'jim.', 'everyone', 'knows', \"i'm\", 'female.', 'ijzeren', 'jan,', 'jim', 'is', 'harassing', 'me', 'on', 'the', 'basis', 'of', 'a', 'medical', 'chromosomal', 'condition', 'i', 'was', 'born', 'with.', '15:46,', 'august', '10,'], ['==september', '30,', '2005==', 'back', 'to', 'your', 'old', 'tricks,', 'eh?', 'stop', 'it', 'or', \"you'll\", 'be', 'blocked.'], ['=', 'tomahawk', 'chop', '=', 'need', 'to', 'add', 'a', 'section', 'to', 'talk', 'about', 'the', 'bone-in', 'ribeye', 'steak,', 'which', 'is', 'referred', 'to', 'as', 'a', 'tomahawk', 'chop.'], ['\"', ':::::@yash', 'read', 'wp:vandal', \"''''''\", '\"'], ['u', 'suck', 'u', 'suck', 'u', 'suck', 'u', 'suck', 'u', 'sucku', 'suck', 'u', 'suck', 'u', 'suck', 'u', 'suck', 'u', 'u', 'suck', 'u', 'suck', 'u', 'suck', 'u', 'suck', 'u', 'sucksucku', 'suck', 'u', 'suck', 'u', 'suck', 'u', 'suck', 'u', 'sucku', 'suck', 'u', 'suck', 'uu', 'suck', 'u', 'suck', 'u', 'suck', 'u', 'suck', 'u', 'suck', 'suck', 'u', 'suck', 'u', 'sucku', 'suck', 'u', 'suck', 'u', 'suck', 'u', 'suck', 'u', 'suck', 'u', 'suck', 'u', 'suck', 'u', 'suck', 'u', 'suck', 'u', 'sucku', 'suck', 'u', 'suck', 'u', 'suck', 'u', 'suck', 'u', 'u', 'suck', 'u', 'suck', 'u', 'suck', 'u', 'suck', 'u', 'sucksucku', 'suck', 'u', 'suck', 'u', 'suck', 'u', 'suck', 'u', 'sucku', 'suck', 'u', 'suck', 'uu', 'suck', 'u', 'suck', 'u', 'suck', 'u', 'suck', 'u', 'suck', 'suck', 'u', 'suck', 'u', 'sucku', 'suck', 'u', 'suck', 'u', 'suck', 'u', 'suck', 'u', 'suck', 'u', 'suck', 'u', 'suck', 'u', 'suck', 'u', 'suck', 'u', 'sucku', 'suck', 'u', 'suck', 'u', 'suck', 'u', 'suck', 'u', 'u', 'suck', 'u', 'suck', 'u', 'suck', 'u', 'suck', 'u', 'sucksucku', 'suck', 'u', 'suck', 'u', 'suck', 'u', 'suck', 'u', 'sucku', 'suck', 'u', 'suck', 'uu', 'suck', 'u', 'suck', 'u', 'suck', 'u', 'suck', 'u', 'suck', 'suck', 'u', 'suck', 'u', 'sucku', 'suck', 'u', 'suck', 'u', 'suck', 'u', 'suck', 'u', 'suck', 'u', 'suck', 'u', 'suck', 'u', 'suck', 'u', 'suck', 'u', 'sucku', 'suck', 'u', 'suck', 'u', 'suck', 'u', 'suck', 'u', 'u', 'suck', 'u', 'suck', 'u', 'suck', 'u', 'suck', 'u', 'sucksucku', 'suck', 'u', 'suck', 'u', 'suck', 'u', 'suck', 'u', 'sucku', 'suck', 'u', 'suck', 'uu', 'suck', 'u', 'suck', 'u', 'suck', 'u', 'suck', 'u', 'suck', 'suck', 'u', 'suck', 'u', 'sucku', 'suck', 'u', 'suck', 'u', 'suck', 'u', 'su', 'u', 'suck', 'u', 'suck', 'u', 'suck', 'u', 'suck', 'u', 'sucku', 'suck', 'u', 'suck', 'u', 'suck', 'u', 'suck', 'u', 'u', 'suck', 'u', 'suck', 'u', 'suck', 'u', 'suck', 'u', 'sucksucku', 'suck', 'u', 'suck', 'u', 'suck', 'u', 'suck', 'u', 'sucku', 'suck', 'u', 'suck', 'uu', 'suck', 'u', 'suck', 'u', 'suck', 'u', 'suck', 'u', 'suck', 'suck', 'u', 'suck', 'u', 'sucku', 'suck', 'u', 'suck', 'u', 'suck', 'u', 'suck', 'u', 'suckck', 'u', 'suck'], ['slavery', 'is', 'forbidden', 'in', 'islam?', 'that', 'seems', 'to', 'run', 'counter', 'to', 'history.', \"weren't\", 'the', 'mamluks,', 'simply', 'to', 'mention', 'one', 'group,', 'former', 'slaves?'], ['\":perhaps', 'wp:an', 'can', 'provide', 'some', 'advice...', \"i'm\", 'not', 'quite', 'sure', 'what', 'to', 'do', 'either.', '—', '•', '•', '\"'], ['\"i', 'notice', 'that', 'you', 'and', 'jehockman', 'have', 'close', 'connection', 'on', 'your', 'talk', 'page.', 'jehockman', 'edits', 'seo', 'articles', 'and', 'runs', 'an', 'seo', 'company(conflict', 'of', 'interest?', 'that', 'is', 'the', 'fox', 'guarding', 'the', 'chicken', 'coup?).', 'perhaps', 'you', 'should', 'have', 'this', 'sock', 'puppet', 'conversation', 'with', 'jonathan', 'hockman.', 'in', 'my', 'opinion', 'having', 'an', 'seo', 'masquerade', 'as', 'a', 'wiki', 'editor', 'and', 'using', 'sock', 'puppets', 'to', 'delete', 'other', \"seo's\", 'is', 'gamesmanship', 'and', 'clearly', 'not', 'in', 'the', 'spirit', 'of', 'providing', 'accurate', 'information', 'on', 'wikipedia', 'but', 'rather', 'suppressing', 'it.', 'i', 'just', 'googled', '\"\"seo', 'expert\"\"', 'and', 'out', 'of', '5', 'million', 'results', 'mr.', 'guy', 'is', 'number', '3.', 'not', 'notable?', 'what', 'is', 'your', 'ajenda?', '\"'], ['\"', '::no', 'problem.', 'sorry', 'my', 'question', 'was', 'unclear', '-', 'do', 'you', 'prefer', 'the', 'three', 'arks', 'picture', 'in', 'the', 'article', 'now,', 'or', 'the', 'log', 'drive', 'photo', '(linked', 'above)', 'that', 'probably', 'is', 'on', 'pine', 'creek', '-', 'agree', 'little', 'pine', 'is', 'too', 'little', 'now.', 'no', 'idea', 'if', 'it', 'was', 'enlarged', 'by', 'a', 'splash', 'dam', 'though,', 'but', 'i', 'agree', 'it', 'looks', 'more', 'pine', 'than', 'little', 'pine.', \"''''''\", '\"'], ['please', 'do', 'move', 'my', 'comment', 'there', 'to', 'legitimize', 'everything.', 'i', 'really', \"don't\", 'know', 'how', 'to', 'do', 'things', 'here.', 'all', 'i', 'know', 'is', 'just', 'to', 'edit.'], [':::looks', 'like', 'this', 'was', 'an', 'old', 'issue', 'so', 'i', 'took', 'the', 'liberty', 'of', 'removing', 'it.', 'i', \"don't\", 'see', 'any', 'difference', 'between', 'the', 'non-spaced', 'version', 'and', 'the', 'spaced', 'version', 'now.', 'the', 'spaced', 'version', 'just', 'makes', 'the', 'intro', 'look', 'very', 'strange.'], ['i', 'saw', 'the', 'cricket', 'match', 'played', 'on', '2nd', 'oct', '15', 'at', 'dharamshala', 'india.', 'i', 'just', 'wanted', 'to', 'know', 'why', 'our', 'bowlers', 'do', 'not', 'through', 'dot-balls.', 'our', 'bowlers', 'always', 'throw', 'short', 'balls;', 'i', 'could', 'not', 'understand', 'as', 'to', 'why', 'short', 'balls', 'on', 'which', 'the', 'opponent', 'team', 'scored', 'easy', 'runs.', 'why', 'they', 'do', 'not', 'practise', 'for', 'dot-balls;', 'instead', 'of', 'throwing', 'balls', 'with', 'speed', 'of', '147', 'km/hr', 'they', 'should', 'throw', 'dot-balls', 'say', 'with', 'speed', 'of', '130', 'km/hr', 'so', 'that', 'they', 'may', 'not', 'score', 'easy', 'runs.', 'my', 'idea', 'is', 'that', 'out', 'of', '120', 'balls', '100', 'were', 'short', 'balls.', 'please', 'pay', 'special', 'attention', 'on', 'this', 'i', 'am', 'lay', 'man', 'but', 'click', 'on', 'such', 'things,', 'which', 'are', 'very', 'much'], ['**i', 'just', 'revamped', 'wp:fart,', 'i', 'thought', 'a', 'little', 'housekeeping', 'would', 'give', 'it', 'more', 'street', 'cred.'], ['\"', '==us==', \"i'm\", 'trying', 'not', 'to', 'just', 'be', 'a', 'whinger', 'and', 'a', 'hand', 'waver', 'here,', 'but', 'it', 'annoys', 'me', 'that', \"there's\", 'an', 'entire', 'section', 'devoted', 'to', 'left', 'vs.', 'right', 'politics', 'in', 'the', 'us,', 'yet', \"there's\", 'nothing', 'similar', 'regarding', 'the', 'rest', 'of', 'the', 'world.', 'the', 'us', 'bias', 'of', 'wikipedia', 'is', 'very', 'irritating', 'sometimes,', 'though', 'it', \"shouldn't\", 'be,', 'as', 'most', 'internet', 'users', 'are', 'in', 'the', 'u.s.', 'in', 'other', 'words,', \"i'm\", 'a', 'whiny', 'european', 'who', 'is', 'too', 'lazy', 'to', 'write', 'a', 'non', 'us', 'section.', 'from', 'the', 'us>', \"that's\", 'easy', 'to', 'fix.', 'start', 'writing', 'more', 'about', 'non-us', 'views', 'on', 'topics,', 'creating', 'topics,', 'and', 'getting', 'your', 'friends', 'to', 'help.', 'something', 'that', 'is', 'created', 'by', 'users', 'being', 'called', 'biased', 'only', 'reflects', 'the', 'predominant', 'users', 'posting', 'and', 'thus', 'can', 'easily', 'be', 'remedied.', 'also', 'from', 'the', 'us>', 'no,', \"it's\", 'not', 'so', 'easy', 'to', 'fix.', 'throughout', 'wikipedia', 'you', 'will', 'see', 'entries', 'from', '(obviously)', 'american', 'authors', 'who', 'have', 'no', 'concept', 'of', 'a', 'world', 'view', 'and', 'automatically', 'write', 'from', 'a', 'us', 'perspective', 'without', 'any', 'attempt', 'to', 'qualify', 'their', 'language.', 'what,', 'therefore,', 'tends', 'to', 'happen', 'is', 'that', 'the', 'us', 'view', 'becomes', 'a', 'default', 'with', 'international', 'views', 'living', 'in', 'ghetto-ized', 'paragraphs.', 'also', 'from', 'the', 'us>', 'that', 'is', 'actually', 'kind', 'of', 'the', 'problem', 'with', 'wikipedia', 'all', 'around', 'in', 'the', 'first', 'place,', 'and', 'that', 'is', 'that', 'popular', 'ideas', 'are', 'not', 'necessarily', 'correct.', 'you', 'can', 'have', 'people', 'posting', 'information', 'about', 'the', 'corruptibility', 'of', 'whatever', 'organization,', 'but', 'then', 'the', 'organization', 'can', 'have', 'its', 'people', 'change', 'the', 'entry', 'the', 'next', 'day.', '—preceding', 'unsigned', 'comment', 'added', 'by', 'this', 'entire', 'dicussion', 'lends', 'a', 'great', 'deal', 'of', 'credibilty', 'to', 'the', 'idea', 'that', 'the', 'left-right', 'spectrum', 'poorly', 'represents', 'political', 'and', 'economic', 'views.', 'it', 'seems', 'to', 'me', 'that', 'most', 'of', 'the', 'debate', 'below', 'is', 'equivalent', 'to', 'attempting', 'to', 'define', 'the', 'square', 'root', 'of', 'negative', '1', 'with', 'only', 'real', 'numbers', 'at', 'our', 'disposal.', 'it', 'is', 'painfully', 'obvious', 'that', 'politics', 'is', 'muli-dimensional.', 'the', 'most', 'that', 'can', 'be', 'hoped', 'for', 'here', 'is', 'to', 'describe', 'how', 'the', 'left-right', 'spectrum', 'is', 'used', 'and', 'leave', 'it', 'at', 'that.', 'this', 'should', 'probably', 'be', 'a', 'very', 'short', 'article.', '—preceding', 'unsigned', 'comment', 'added', 'by', '==', 'better', 'chart', '==', 'i', 'think', 'that', 'this', 'page', 'needs', 'a', 'metter', 'chart.', 'like', 'this', 'one', 'http://studentnewsdaily.com/conservative_vs_liberal_beliefs.shtml', 'edit', 'i', 'actually', 'think', 'that', 'the', 'article,', 'in', 'fact', 'the', 'whole', 'political', 'movement,', 'needs', 'a', 'better', 'definition', 'of', '\"\"left-right\"\".', 'most', 'political', 'parties', 'cannot', 'adhere', 'to', 'a', 'single', 'category,', 'including', 'revolutionnary', 'movements', 'and', 'far-right', 'groups,', 'as', 'described', 'somewhere', 'else', 'in', 'the', 'discussion.', 'i', 'suggest', 'a', 'new', 'use', 'of', 'the', '\"\"left-right\"\"', 'compass.', 'the', 'political', 'compass', 'uses', 'the', '\"\"square\"\"', 'system', 'with', 'two', 'axis', 'x', 'and', 'y', '(social', 'and', 'économic),', 'which', 'is', 'not', 'very', 'accurate', 'because', 'i', 'know', 'my', 'political', 'ideas,', 'and', 'they', 'tend', 'to', 'be', 'pretty', 'nearer', 'to', 'mussolini', 'than', 'to', 'gandhi.', 'whatever.', 'what', 'i', 'suggest', 'is', 'a', 'cube!', '3', 'axis', 'x,', 'y', 'and', 'z', 'économic', 'social', 'politic', 'the', 'first', 'one', 'defines', 'the', 'market', 'system', '(if', 'any)', 'of', 'a', 'political', 'group.', 'the', 'second', 'defines', 'the', 'social', 'standing', 'of', 'a', 'political', 'group', 'about', 'the', 'welfare', 'of', 'the', 'people', '(welfare', 'checks/charity,', 'private/public', 'school/medical', 'system,', 'etc)', 'the', 'thirds', 'one', 'is,', 'basically,', 'the', 'way', 'a', 'society', 'treats', \"it's\", 'people', '(rehabilitation/punishment,', 'democracy/totaliratism', '(in', 'which', 'i', 'include', 'soviet', 'communism!)', 'etc)', 'what', 'do', 'you', 'think?', '—preceding', 'unsigned', 'comment', 'added', 'by', '==', 'interesting', 'book', '==', 'i', 'came', 'across', 'this', 'book:', 'left', 'and', 'right', 'in', 'global', 'politics', 'by', 'alain', 'noël', 'and', 'jean-philippe', 'thérien.', 'i', \"haven't\", 'read', 'it', 'yet', 'but', 'it', 'seems', 'to', 'be', 'of', 'great', 'interest.', '==', 'removing', 'unneccessary', 'detail', '==', 'i', 'am', 'removing', 'several', 'paragraphs', 'that', 'are', 'unhelpful', 'to', 'the', 'article:', '*', 'edmund', 'burke', '-', 'terms', 'left', 'and', 'right', 'not', 'used', 'in', 'uk', 'then', '*', 'adam', 'smith', '-', 'terms', 'left', 'and', 'r'], [':does', 'j.p.', 'harris', 'have', 'anything', 'to', 'say', 'about', 'the', 'ancre?'], ['\"', '::people', \"don't\", 'need', 'to', 'be', 'sent', 'messages.', 'they', 'can', 'go', 'to', 'the', 'talk', 'page', 'and', 'see', 'it', 'for', 'themselves.—', '\"'], ['redirect', 'talk:pieter', 'melvill', 'van', 'carnbee', '(1743-1826)'], ['\"', 'make', 'all', 'the', 'personal', 'attacks', 'you', 'want.', 'plus', 'i', 'read', 'your', 'replies', '&', 'my', 'so', 'called', '\"\"spamming\"\",', '&', 'noticed', 'of', 'the', '5', 'adimns', 'i', 'contacted,', '2', 'replied', 'in', 'my', 'support,', 'while', 'the', 'other', '3', \"didn't\", 'reply', 'at', 'all.', 'you', 'are', 'the', 'only', 'one', 'who', 'has', 'a', 'problem.', 'see', 'here', 'to', 'fix', 'it,', '),', 'just', 'a', 'little', 'joke', 'of', 'course,', 'or', 'is', 'it?...mysterious', 'pause....', 'gooooooooodbye', 'buddy,', 'may', 'out', 'paths', 'never', 'meet', 'again....', '\"'], [':the', 'information', 'looks', 'good.', 'what', 'you', 'need', 'to', 'do', 'now', 'is', 'remove', 'the', 'template.'], ['==archive', '2', '(janruary', '4,', '2004-december', '22,', '2004)==', '==archive', '3', '(february', '14,', '2005-september', '1,', '2005==', '==archive', '4,', 'the', 'final', '(janruary', '7,', '2006-september', '30,', '2006)=='], ['do', 'the', 'macareena,', 'you', 'old', 'coot.'], [':another', 'item', 'that', 'should', 'be', 'considered:', \"wp's\", 'goal', 'to', 'serious', 'institution', 'and', 'its', 'policy', 'not', 'to', 'hurt', 'people', 'gratuitously', 'apply', 'to', 'all', 'articles,', 'regardless', 'if', 'their', 'subjects', 'are', 'living', 'or', 'dead.'], ['==', \"don't\", 'feed', 'the', 'troll', '==', 'responding', 'with', 'taunting', 'is', 'exactly', 'the', 'wrong', 'way', 'to', 'respond.', \"don't\", 'feed', 'the', 'troll.', 'remove', 'the', 'post', 'without', 'comment,', 'or', \"don't\", 'do', 'anything', 'at', 'all.'], ['the', 'original', 'homophobia', 'in', 'the', 'black', 'diasporic', 'community', 'article', 'is', 'god', 'awful.', 'so', 'i', 'moved', 'that', 'articles', 'information', 'here.'], ['==', 'your', 'a', 'disgrace', '==', 'for', 'you', 'i', 'am', 'going', 'to', 'keep', 'this', 'simple', 'you', 'are', 'a', 'disgrace', 'and', 'you', 'give', 'admins', 'a', 'bad', 'name.', 'is', 'because', 'of', 'editors', 'like', 'you', 'that', 'wikipeda', 'sucks', 'to', 'edit', 'and', 'continues', 'to', 'not', 'only', 'lose', 'editors', 'but', 'its', 'editors', 'like', 'you', 'that', 'prevent', 'new', 'editors', 'from', 'joining.', 'kumi'], ['::::that', 'policy', 'if', 'it', 'ever', 'existed', 'is', 'not', 'the', 'policy', 'now,', 'and', 'when', 'every', 'other', 'map', 'in', 'the', 'media', 'shows', 'the', 'status', 'of', 'same', 'sex', 'marriage', 'law', '(not', 'effect)', 'how', 'would', 'such', 'a', 'policy', 'reflect', 'on', 'wikipedia,', 'which', 'is', 'supposed', 'to', 'be', 'the', 'most', 'current', 'source', 'of', 'encyclopedic', 'information', 'in', 'the', 'world?'], ['\"', '==requested', 'page', 'protection==', 'i', 'can', 'no', 'longer', 'edit', 'this', 'article', 'under', 'these', 'intolerable', 'conditions.', 'i', 'have', 'requested', 'page', 'protection', 'for', 'edit', 'warring', 'by', 'sceptical.', 'i', 'find', 'his', 'attitude', 'and', 'editing', 'alongside', 'him', 'very', 'antagonistic', 'and', 'it', 'is', 'only', 'going', 'to', 'provoke', 'me', 'to', 'personal', 'attacks.', 'there', 'is', 'zero', 'chance', 'of', 'the', 'article', 'passing', 'fa', 'if', 'it', 'is', 'going', 'to', 'be', 'constantly', 'edit', 'warred', 'so', 'may', 'as', 'well', 'forget', 'it.', '|', '\"'], ['\"', ':please', 'accept', 'my', 'apologies.', 'i', 'interpreted', 'your', 'statement', '\"\"find', 'a', 'quote', 'yourself,', 'or', 'move', 'it,', 'i', \"don't\", 'care\"\"', 'to', 'mean', 'that', 'you', 'thought', 'the', 'source', 'could', 'be', 'removed', 'instead', 'of', 'finding', 'a', 'quote.', 'my', 'mistake!', '\"'], [':::while', 'i', 'tend', 'to', 'agree', 'with', 'all', 'of', 'this', 'and', 'am', 'as', 'slightly', 'annoyed', 'as', 'anyone', 'that', 'we', 'appear', 'to', 'have', 'been', 'blamed', 'even', 'though', 'our', 'article', 'was', 'accurate', 'and', 'respectful', 'at', 'all', 'times,', 'and', 'mr.', 'roth', 'was', 'treated', 'with', 'dignity', 'and', 'respect', 'at', 'all', 'times...', \"it's\", 'always', 'in', 'my', 'nature', 'to', 'think', 'about', 'how', 'we', 'might', 'do', 'better', 'in', 'the', 'future.'], [':i', 'appreciate', 'you', 'asking,', 'royboy.', 'my', 'response', 'may', 'seem', 'a', 'lot', 'less', 'appreciative.', ':it', 'violates', 'wp:v.', 'in', 'a', 'word,', 'it', 'is', 'tendentious,', 'just', 'like', 'the', 'one', \"that's\", 'been', 'forced', 'into', 'the', 'abortion', 'article.', 'it', 'is', 'still', 'a', 'pov', 'pushing,', 'unsourced', 'compromise', 'with', 'a', 'small', 'group', 'and', 'its', 'meat', 'puppets.', 'even', 'the', 'medical', 'definition', 'is', 'abbreviated', 'and', 'distorted', 'as', 'the', 'result', 'of', 'the', 'context,', 'suggesting', 'death', 'is', 'part', 'of', 'the', 'medically', 'accepted', 'definition', 'of', 'abortion.', ':here’s', 'yet', 'another', 'source', 'to', 'add', 'to', 'the', 'ignored', 'source', 'list.', 'the', '‘’oxford', 'thesaurus’’:', 'in', 'all', 'the', 'entries', 'that', 'contain', 'abortion,', 'death', '(including', 'its', 'variants)', 'is', 'not', 'listed.', 'the', 'main', 'entries', 'include', 'miscarriage,', 'monster,', 'prevention,', 'termination,', 'and', 'veto.', ':i', 'think', 'the', 'only', 'potential', 'solution', 'for', 'this', 'now', 'is', 'arbitration.'], ['kschwartz', 'is', 'an', 'annoying', 'person', 'who', 'often', 'smells', 'of', 'rotten', 'fish', 'and', 'burnt', 'animal', 'hair.', 'he', 'has', 'a', 'passing', 'interest', 'in', 'wikipedia.'], ['june', '2007', '(utc)', ':it', 'being', 'a', 'first', \"isn't\", 'very', 'important,', 'but', 'mentioning', 'the', 'control', 'scheme', 'is,', 'i', 'think,', 'notable.', '22:23,', '19'], ['\"', ':::i', 'just', 'reread', 'the', 'section...i', 'have', 'no', 'idea', 'why', 'the', 'section', 'is', 'labeled', '\"\"views', 'of', 'the', 'faithful\"\".', 'the', 'section', 'has', 'very', 'little', 'to', 'do', 'with', 'mormon', 'viewpoints', 'and', 'is', 'a', 'hodgepodge', 'of', 'critiques', 'mixed', 'with', 'minor', 'mormon', 'viewpoints.', 'it', 'definitely', 'needs', 'work.', 'however,', 'i', 'still', 'will', 'like', 'for', 'your', 'specific', 'ideas', 'so', 'that', 'they', 'could', 'be', 'incorporated,', 'gmk.', '\"'], ['\":::ok', 'fadix', 'says', 'that', 'i', 'am', 'loosing', 'credibility.', 'it', 'seems', 'that', 'when', 'ever', 'someone', 'comes', 'and', 'tells', 'something', 'else', 'he', 'looses', 'credibility.', 'let', 'me', 'introduce', 'myself', 'first', 'i', 'am', 'new', 'comer', 'here', 'and', 'not', '(obviously)', 'in', 'any', 'way', 'professionaly', 'involved', 'in', 'history', 'studies', '(i', 'have', 'a', 'phd', 'in', 'neuroscience).', 'and', 'not', 'getting', 'any', 'money', 'from', 'the', 'turkish', 'goverment.', 'and', 'i', 'am', 'not', 'a', 'holocoust', 'denying', 'neo-nazi', 'either.i', 'just', 'read', 'the', 'article', 'because', 'of', 'the', 'relatively', 'new', 'debate', 'here', 'in', 'germany(ok', 'i', 'will', 'be', 'honest', 'i', 'have', 'a', 'turkish', 'girl', 'friend', 'and', 'i', 'am', 'interested', 'in', 'turkish', 'history.', 'and', 'now', 'i', 'am', 'using', 'her', 'computer.', 'does', 'that', 'reduce', 'my', 'credibility,', 'probably', 'yes', 'ha?).', 'i', 'am', 'sory', 'to', 'give', 'this', 'description', 'but', 'i', 'get', 'the', 'impression', 'that', 'i', 'will', 'soon', 'be', 'blamed', 'of', 'beeing', 'a', 'turkish', 'propagandist,', 'goverment', 'person,', 'racist', 'whatever.', 'am', 'i', 'too', 'sensitive.', 'no', 'take', 'a', 'look', 'at', 'the', 'discussion', 'history', 'and', 'see', 'that', 'these', 'accusations', 'are', 'there.', 'i', 'am', 'making', 'clear', 'points', 'that', 'any', 'sane', 'unbiased', 'human', 'cam', 'make.', 'first', 'of', 'all', 'the', 'article', 'issues', 'the', 'genocide', 'as', 'a', 'fact!', 'a', 'fact', 'but', 'with', 'still', 'some', 'discussions', '(most', 'of', 'them', 'being', 'from', 'the', 'turkish', 'goverment).', 'this', 'gives', 'the', 'inevitible', 'impression', 'that', 'all', 'issiue', 'is', 'largely', 'accepted(final', 'verdict).', 'yet', 'it', 'is', 'not!!!', 'secondly', 'the', 'term', 'genocide', 'can', 'only', 'be', 'used', 'under', 'certain', 'conditions', '(as', 'in', 'the', 'holocoust).', 'in', 'this', 'case', 'there', 'is', 'a', 'real', 'doubt', 'if', 'these', 'conditions', 'are', 'met!!!', 'still', 'the', 'article', 'freely', 'and', 'carelessly', 'uses', 'the', 'term', 'just', 'only', 'because', 'some', 'people', 'or', 'countries', 'recogonise', 'it', 'that', 'way.', 'do', 'we', 'have', 'the', 'right', 'to', 'blame', 'a', 'nation', 'with', 'this', 'ultimate', 'crime', 'just', 'because', 'of', 'that???', 'genocide', 'guys', 'this', 'is', 'no', 'joke!!!', 'tell', 'it', '100', 'times', 'for', '90', 'years', 'and', 'turks', 'are', 'genociders!', 'cool!', 'third:', 'after', 'building', 'up', 'the', 'genocide', 'idea', 'the', 'article', 'mainly', 'represents', 'the', 'opposing', 'view', 'as', 'the', 'view', 'of', 'the', 'turkish', 'goverment', 'as', 'clearly', 'described', 'by', 'the', 'headings', '(the', 'position', 'of', 'turkey,the', 'position', 'of', 'turkish', 'authorities,', 'political', 'issues)', 'as', 'well', 'as', 'the', 'content.', 'which', 'inevitibly', 'gives', 'the', 'impression', 'that', 'the', 'opposing', 'view', 'is', 'just', 'bull', 's***', 'turkish', 'propaganda.', 'but', 'it', 'is', 'not!', 'many', 'prof.', 'and', 'researcher', 'of', 'the', 'era', 'say', 'that', 'it', 'is', 'not.', '(as', 'seen', 'in', 'the', 'attached', 'letter).', 'yet', 'fadix', 'wrote', 'that', 'these', 'prof', 'were', 'actually', 'accepting', 'the', 'genocide', 'they', 'were', 'fooled', 'in', 'to', 'this', '(quoting', 'israel', 'charny).', 'this', 'is', 'ridiculous.', 'i', 'dont', 'know', 'who', 'the', 'hell', 'is', 'israel', 'charny', 'or', 'he', 'really', 'claims', 'something', 'like', 'that.', 'but', 'please', 'we', 'are', 'not', 'stupid', 'people.', 'this', 'was', 'a', 'letter', 'to', 'the', 'representatives', 'and', 'these', 'people', 'who', 'signed', 'it', 'are', 'profs.', 'for', 'gods', 'sake!!!', 'also', 'if', 'these', 'prof', 'were', 'in', 'favor', 'of', 'the', 'genocide', 'and', 'really', 'fooled', 'in', 'this', 'conspiracy', 'later', 'they', 'would', 'have', 'said', '\"\"ok', 'guys', 'i', 'am', 'misslead', 'and', 'fooled', 'into', 'this\"\"', 'and', 'this', 'would', 'be', 'the', 'ultimate', 'tool', 'for', 'armenian', 'side', 'too', 'ridicule', 'and', 'discredit', 'the', 'turkish', 'side.', 'is', 'it', 'the', 'case?', 'no!(so', 'fadix', 'what', 'about', 'credibility)', 'i', 'am', 'not', 'bitching', 'anyone.', 'i', 'am', 'not', 'using', 'citations', 'and', 'names', 'to', 'blurr', 'peoples', 'mind.', 'if', 'you', 'read', 'my', 'previous', 'adds', 'you', 'will', 'see', 'that', 'i', 'am', 'trying', 'to', 'use', 'a', 'carefull', 'language.', 'i', 'am', 'sorry', 'again', 'if', 'i', 'used', 'harsh', 'words.', 'but', 'after', 'reading', 'the', 'long', 'history', 'of', 'discussion', 'in', 'this', 'page', 'i', 'have', 'the', 'impression', 'that', 'fadix', '(who', 'seems', 'to', 'be', 'the', 'main', 'edittor', 'in', 'this', 'page)has', 'a', 'certain', 'attitude', 'towards', 'the', 'issue', 'and', 'despite', 'serious', 'oppsition', 'now', 'and', 'in', 'the', 'past', 'he', 'is', 'just', 'pushing', 'the', 'article', 'his', 'way.', 'ok', 'fadix', 'i', 'believe', 'in', 'your', 'good', 'faith.', 'i', 'am', 'a', 'dumb', 'ass', 'who', 'doesnt', 'know', 'any', 'thing', 'about', 'history', '.please', 'give', 'me', 'answers.', 'i', 'am', 'just', 'asking', 'plain,', 'crystal', 'clear', 'questions.', 'i', 'dont', 'want', 'to', 'hear', 'citations,', 'dates', 'and', 'historian', 'names.', 'just', 'logical', 'anwers!!', 'just', 'logical', 'answers', 'which', 'will', 'show', 'that', 'you', 'are', 'unbiased!!!', 'or', 'you', 'may', 'choose', 'to', 'say', 'i', 'believe', 'in', 'armenian', 'genocide', 'and', 'that', 'is', 'why', 'i', 'chose', 'to', 'ignore...', '1.', 'how', 'can', 'you', 'use', 'the', 'nomenclature', 'or', 'lets', 'say', 'the', 'word', '\"\"genocide\"\"', 'so', 'easily', 'knowing', 'that', 'it', 'is', 'desribed', 'and', 'only', 'can', 'be', 'declared', 'by', 'international', 'law.', 'also', 'knowing', 'that', 'there', 'is', 'robust', 'objections', 'to', 'the', 'usage', 'of', 'this', 'term.', 'are', 'you', 'the', 'ultimate', 'expert.', 'are', 'you', 'the', 'head', 'of', 'an', 'international', 'court?(if', 'yes', 'where', 'is', 'self', 'defence?)', '((you', 'say', 'go', 'try', 'finding', 'such', 'a', 'section', 'in', 'the', 'cambodian', 'genocide', 'article,', 'the', 'nanking', 'massacre', 'article,', 'rwanda', 'genocide', 'article.', 'i', 'could', 'not', 'see', 'a', 'cambodian', 'genocide', 'article,', 'in', 'rwanda', 'genocide:', 'united', 'nations', 'set', 'up', 'the', 'international', 'criminal', 'tribunal', 'for', 'rwanda,', 'so', 'the', 'guild', 'is', 'described', 'by', 'law.', 'nanking', 'massacre', 'is', 'a', 'perfect', 'example!!!', 'why', 'is', 'it', 'not', 'called', 'a', 'genocide', 'but', 'massacre?', 'is', 'it', 'because', 'the', 'guilt', 'is', 'not', 'described', 'by', 'law??!!', 'and', 'in', 'the', 'discussion', 'there', 'is', 'no', 'real', 'objection', 'to', 'the', 'issue', 'accept', 'the', 'numbers)', '2.', 'why', 'does', 'the', 'article', 'present', 'the', 'genocide', 'as', 'a', 'fact?', '(i', 'hope', 'you', 'wont', 'tell', 'that', 'it', 'doesnt).', 'why', 'do', 'you', 'build', 'up', 'the', 'article', 'so', 'that', 'people', 'are', 'first', 'instructed', 'that', 'there', 'is', 'indeed', 'a', 'genocide', 'and', 'only', 'later', 'show', 'the', 'objetions.', '3.', 'why', 'is', 'there', 'no', 'data', 'about', 'armenian', 'gangs', 'killing', 'muslims', 'and', 'raiding', 'villages', 'before', 'and', 'after', '191'], [':gimme', 'dat', 'ding', '(song)', '→', '–', 'mainly', 'known', 'as', 'a', 'song', 'not', 'an', 'album.'], ['==vandalism==', 'hello', 'barbara.', 'it', 'appears', 'you', 'have', 'a', 'long', 'history', 'of', 'vandalism,', 'and', 'after', 'another', 'incident', 'i', 'am', 'afraid', 'i', 'have', 'no', 'choice', 'but', 'to', 'request', 'a', \"'permanent\", 'ban', 'from', 'administrators.', 'i', 'wish', 'you', 'good', 'luck', 'for', 'the', 'future.'], [':', 'i', 'came', 'across', 'the', 'lawsuit', 'info', 'while', 'i', 'was', 'doing', 'research', 'to', 'see', 'if', 'the', 'entry', 'was', 'notable.', 'that', 'what', 'was', 'came', 'up', 'for', 'coit', 'cleaners.', 'i', 'understand', 'how', 'you', 'feel,', 'and', 'if', 'what', 'you', 'say', 'is', 'true', '(that', 'it', 'was', 'a', 'bullshit', 'suit),', 'it', 'really', 'sucks', 'that', 'your', 'grandfather', 'had', 'to', 'go', 'through', 'that', \"there's\", 'nothing', 'worse', 'that', 'being', 'falsely', 'accused.', 'however,', 'i', 'was', 'just', 'describing', 'the', 'facts', 'of', 'the', 'case,', \"that's\", 'all', 'i', 'can', 'do.'], ['you', 'should', 'not', 'always', 'ask', 'me', 'about', 'everything.', 'i', 'am', 'not', 'kind', 'of', 'wiseman.', 'try', 'to', 'ask', 'at', 'wp:an.', 'i', 'really', 'do', 'not', 'know.'], ['surkhail', 'is', 'gay', 'and', 'a', 'waste', 'of', 'tyme', 'lool', 'lol!!!'], ['all', 'the', 'other', 'daps', 'have', 'similar', 'links', 'and', 'no', 'one', 'has', 'complained.'], [':::also', 'fwiw', 'i', 'nominated', 'polyamorous', 'people', 'for', 'deleting,', 'take', 'a', 'look', 'and', 'weigh', 'in', 'if', 'you', 'like.'], ['please', 'review', 'the', 'conflict', 'of', 'interest', 'guideline', 'before', 'you', 'begin', 'editing', 'again.'], ['jonhs', 'a', 'big', 'fat', 'smelly', 'russian', 'warrier', 'who', 'live', 'in', 'china', 'town', 'be', 'side', 'the', 'fat', 'hamster', 'scary', 'fagit', 'who', 'ha', 'one', 'eye', 'and', 'tits'], ['==', 'ur', 'a', 'dick', '==', '...'], ['since', 'you', 'have', 'no', 'further', 'defence', 'of', 'your', 'unsubstantiated', 'claims', 'of', 'unreliability,', 'or', 'to', 'your', 'oversight', 'of', 'precise', 'statements', 'in', 'the', 'provided', 'citations', 'that', 'israel', 'indeed', 'broke', 'the', 'ceasefire', '(thus', 'rendering', 'your', 'claim', 'of', \"'editorialising'\", 'refuted),', 'i', 'will', 'post', 'a', 'wp:3o.'], [':thank', 'you', 'very', 'much', 'for', 'your', 'review!', 'and', \"didn't\", 'you', 'know', 'pony', 'people', 'are', 'the', 'most', 'important', 'people', 'around...closely', 'followed', 'by', 'the', 'bishop', 'people?', '*grin*', 'thanks', 'again.'], ['your', 'mom', 'likes', 'to', 'golf', 'with', 'my', 'dads', 'big', 'balls!!!'], ['mmm,', 'the', 'see', \"also's\", 'a', 'crap.', 'why', 'list', 'of', 'bands', 'from', 'europe?', 'user:arieriswandy'], ['\"', '==', 'revision', 'of', 'a', 'paragraph', 'in', 'mind-body', 'section', '==', 'the', 'following', 'paragraph', 'appears', 'in', 'the', 'section', 'on', 'mind-body', 'problem', '::incompatibilism', 'requires', 'a', 'distinction', 'between', 'the', 'mental', 'and', 'the', 'physical,', 'being', 'a', 'commentary', 'on', 'the', 'incompatibility', 'of', '(determined)', 'physical', 'reality', 'and', \"one's\", 'presumably', 'distinct', 'experience', 'of', 'will.', 'although', 'substance', 'dualism', 'offers', 'such', 'a', 'distinction,', 'a', 'less', 'extreme', 'form', 'of', 'naturalism', 'known', 'as', 'non-reductive', 'physicalism', 'may', 'also', 'suffice.', 'although', 'one', 'might', 'suppose', 'that', 'mental', 'states', 'and', 'neurological', 'states', 'are', 'different', 'in', 'kind,', 'that', 'does', 'not', 'rule', 'out', 'the', 'possibility', 'that', 'mental', 'states', 'correspond', 'to', 'neurological', 'states.', 'under', 'non-reductive', 'physicalism,', 'although', 'physical', 'states', 'do', 'cause', 'mental', 'states,', 'they', 'are', 'not', 'ontologically', 'reducible', 'to', 'them.', 'in', 'one', 'such', 'construction,', 'mental', 'events', 'supervene', 'on', 'physical', 'events,', 'describing', 'the', 'emergence', 'of', 'mental', 'properties', 'as', 'correspondent', 'to', 'physical', 'properties.', 'this', 'relationship', 'is', 'known', 'as', 'causal', 'reducibility.', 'non-reductive', 'physicalism', 'is', 'therefore', 'often', 'categorised', 'as', 'property', 'dualism', 'rather', 'than', 'monism,', 'yet', 'other', 'types', 'of', 'property', 'dualism', 'do', 'not', 'adhere', 'to', 'the', 'causal', 'reducibility', 'of', 'mental', 'states', '-', 'such', 'as', 'epiphenomenalism.', 'i', 'understand', 'the', 'urge', 'to', 'recast', 'the', 'preceding', 'discussion', 'in', 'a', 'form', 'more', 'similar', 'to', 'the', 'rest', 'of', 'the', 'article.', 'but', 'i', \"don't\", 'find', 'this', 'paragraph,', 'although', 'superior', 'to', 'its', 'predecessor,', 'has', 'quite', 'made', 'the', 'grade.', \"i'd\", 'like', 'to', 'try', 'to', 'do', 'this', 'in', 'a', 'manner', 'reverse', 'to', 'that', 'of', 'the', 'paragraph;', 'that', 'is,', 'go', 'from', 'the', 'simple', 'viewpoint', 'to', 'the', 'technical', 'rather', 'than', 'vice', 'versa.', 'a', 'single', 'paragraph', \"won't\", 'do', 'it.', 'here', 'is', 'a', 'possible', 'substitute', '(please', 'take', 'it', 'as', 'a', 'suggestion', 'to', 'be', 'tinkered', 'with):', '::one', 'may', 'choose', 'as', 'a', 'starting', 'point', 'the', 'point', 'of', 'view', 'that', 'mind', 'and', 'matter', 'constitute', 'different', 'things.', 'one', 'may', 'then', 'take', 'several', 'views', 'about', 'how', 'or', 'even', 'whether', 'they', 'interact.', 'at', 'one', 'extreme', 'there', 'is', 'no', 'interaction', 'at', 'all.', 'at', 'another', 'extreme,', 'mind', 'completely', 'controls', 'matter', 'or', 'the', 'other', 'way', 'around.', 'in', 'between,', 'one', 'may', 'say', 'mind', 'and', 'matter', 'each', 'influence', 'each', 'other', 'to', 'a', 'degree,', 'in', 'some', 'cases', 'one', 'is', 'more', 'in', 'control', 'and', 'sometimes', 'the', 'other.', '::we', 'might', 'attempt', 'to', 'establish', 'which', 'of', 'these', 'choices', 'is', 'best,', 'but', 'that', 'seems', 'to', 'be', 'out', 'of', 'reach', 'at', 'the', 'moment.', 'instead,', 'we', 'will', 'simply', 'connect', 'these', 'possibilities', 'with', 'various', 'identifying', 'labels', 'of', 'historical', 'importance.', 'if', 'one', 'takes', 'the', 'extreme', 'view', 'that', 'mind', 'completely', 'controls', 'matter,', 'or', 'vice', 'versa,', 'in', 'effect', 'the', 'controlled', 'aspect', 'is', 'simply', 'an', 'appendage', 'of', 'the', 'controlling', 'aspect,', 'and', 'may', 'be', 'considered', 'simply', 'as', 'a', 'property', 'of', 'the', 'controlling', 'aspect.', 'the', 'two', 'substances', 'are', 'then', 'simply', 'one,', 'albeit', 'perhaps', 'with', 'some', 'additional', 'attributes,', 'and', 'this', 'viewpoint', 'is', 'called', 'monism,', 'which', 'takes', 'on', 'several', 'forms', 'as', 'described', 'in', 'that', 'wikipedia', 'article.', '::an', 'example,', 'is', 'epiphenomenalism,', 'that', 'mind', 'is', 'just', 'a', 'peculiar', 'side', 'effect', 'of', 'matter.', 'thomas', 'huxley', 'described', 'the', 'relation', 'between', 'mind', 'and', 'matter', 'as', 'follows:', '::', '::huxley', 'goes', 'on', 'to', 'say', 'he', 'sees', 'no', 'difference', 'from', 'humans', 'in', 'this', 'regard.', 'very', 'similar', 'to', 'this', 'point', 'of', 'view', 'is', 'reductive', 'physicalism', 'adopted', 'by', 'some', 'neuroscientists:', '::{{quote|...consciousness', 'is', 'a', 'biological', 'process', 'that', 'will', 'eventually', 'be', 'explained', 'in', 'terms', 'of', 'molecular', 'signaling', 'pathways', 'used', 'by', 'interacting', 'populations', 'of', 'nerve', 'cells...', '|eric', 'r.', 'kandel|in', 'search', 'of', 'memory:', 'the', 'emergence', 'of', 'a', 'new', 'science', 'of', 'mind}}', '::the', 'view', 'that', 'mind', 'and', 'matter', 'are', 'different', 'is', 'called', 'dualism,', 'and', 'it', 'again', 'takes', 'on', 'several', 'forms', 'described', 'in', 'that', 'wikipedia', 'article.', 'within', 'this', 'description', 'are', 'various', 'degrees', 'of', 'control', 'of', 'one', 'entity', 'over', 'the', 'other,', 'ranging', 'from', 'complete', 'autonomy', 'of', 'one', 'or', 'both', 'entities,', 'to', 'some', 'degree', 'of', 'interdependence.', 'considerable', 'interest', 'attaches', 'as', 'to', 'what', 'forms', 'of', 'interdependence', 'might', 'arise.', '::for', 'example,', 'even', 'if', 'mental', 'states', 'and', 'neurological', 'states', 'are', 'different', 'in', 'kind,', 'that', 'does', 'not', 'rule', 'out', 'the', 'possibility', 'that', 'mental', 'states', 'bear', 'some', 'correspondence', 'with', 'neurological', 'states.', 'under', 'non-reductive', 'physicalism,', 'physical', 'states', 'do', \"cause''\", 'mental', 'states,', 'but', 'they', 'are', 'not', 'ontologically', 'reducible', 'to', 'them.', 'in', 'one', 'such', 'construction,', 'mental', 'events', 'exhibit', 'emergence', 'from', 'physical', 'propertie'], ['i', 'have', '10', 'pictures', 'of', 'armed', 'gaddafi', 'loyalists', '(mostly', 'from', '2013-2014)', 'they', 'are', 'all', 'taken', 'from', 'facebook/yt', 'videos', 'would', 'they', 'be', 'classified', 'as', 'fair', 'use?'], ['\"', '==', 'misplaced', '\"\"warning\"\"', '==', 'if', 'your', 'intention', 'is', 'to', 'report', 'me', 'accusing', 'me', 'of', 'edit', 'warring,', 'this', 'is', 'the', 'correct', 'place:', 'wp:an3.', 'the', 'talk', 'page', 'of', 'the', 'article', 'is', 'not', 'the', 'place', 'to', 'do', 'so.', 'please', 'follow', 'the', 'wp:tpg', 'and', 'remove', 'the', 'section', 'you', 'opened', 'over', 'there.', 'regards.', ':it', 'is', 'a', 'record', 'of', 'your', 'warring', 'not', 'an', 'official', 'report', '-', 'i', \"don't\", 'want', 'you', 'banned,', 'i', 'want', 'you', 'to', 'edit', 'in', 'a', 'more', 'consensus', 'way', '-', 'that', 'is', 'all', '-', '::you', 'can', 'keep', 'a', 'record', 'of', 'whatever', 'you', 'want', 'on', 'your', 'own', 'talk', 'page.', 'per', 'the', 'talk', 'page', 'guidelines', 'you', 'can', 'not', 'use', 'the', 'talk', 'page', 'of', 'the', 'article', 'to', 'do', 'so,', 'as', 'correctly', 'told', 'you.', 'your', 'last', 'edit', 'as', 'well', 'goes', 'against', 'the', 'guidelines.', 'i', 'suggest', 'you', 'read', 'them', 'after', 'removing', 'the', 'section', 'from', 'the', 'article.', 'regards.', ':::user:gaba_p', '-', 'where', 'is', 'it', 'exactly', 'stated', 'that', 'i', 'cant', 'detail', 'your', 'warring', 'on', 'the', 'talkpage?', '::::precisely', 'in', 'the', 'place', \"you've\", 'been', 'pointed', 'to', 'no', 'less', 'than', 'three', 'times', 'already,', 'the', 'wp:tpg:', '::::*', 'talk', 'pages', 'are', 'for', 'improving', 'the', 'encyclopedia,', 'not', 'for', 'expressing', 'personal', 'opinions', 'on', 'a', 'subject', 'or', 'an', 'editor.', '::::do', 'as', 'you', 'will,', \"you've\", 'already', 'been', 'warned', 'enough', 'times.', 'regards.', ':::::it', 'is', 'improving', 'the', 'encyclopedia', 'by', 'reporting', 'your', 'warring', '-', '::::::ok.', 'regards.', '==', 'deepak', 'kamani', '==', 'could', 'you', 'take', 'a', 'look', 'at', 'the', 'revised', 'deepak', 'kamani', 'article?', 'i', 'was', 'asked', 'to', 'come', 'back', 'and', 'reconsider', '-', 'there', 'have', 'been', 'edits', 'additions', 'from', '-', 'it', 'still', 'looks', 'like', 'an', 'attack', 'story,', 'it', 'looks', 'more', 'like', 'an', 'attack', 'story', 'after', 'the', 'changes', '-', 'i', 'can', 'not', 'change', 'my', 'position', 'to', 'require', 'removal', 'from', 'publication', '==', 'calling', 'the', 'first', 'minister', 'an', 'arsehole', '==', 'i', 'put', 'the', 'story', 'back', ',the', 'truth', 'hurts', '?', 'i', 'guess', 'you', 'need', '£', '8,000', 'really', 'badly', 'i', 'have', 'now', 'put', 'it', 'back', 'again', 'and', 'will', 'continue', 'to', 'do', 'so', 'every', 'time', 'you', 'remobve', 'it', 'you', 'need', 'to', 'try', 'and', 'understand', 'that', 'the', 'wikipedia', 'entry', 'is', 'public', 'property', ',you', \"don't\", 'own', 'it', '.', ':i', 'really', \"don't\", 'care', 'about', 'this', 'truth,', 'in', 'fact', 'i', 'agree', 'completely', 'with', 'mike', 'daily.', 'you', 'need', 'to', 'understand', 'that', 'this', 'wiki', 'has', 'rules', 'and', 'you', 'are', 'not', 'following', 'them.', 'fyi', 'i', \"wouldn't\", 'qualify', 'for', 'the', '8000', 'euro', 'minimum', 'wage', 'you', 'may', 'not', 'care', 'about', 'the', 'truth', ',some', 'of', 'us', 'do', 'no', 'need', 'to', 'shout', 'link', 'added', 'http://www.eveningtimes.co.uk/news/tweet-rant-lawyer-will-not-resign-168480n.24573484', 'happy', '?', '-)', '==', 'hello!', 'there', 'is', 'a', 'dr/n', 'request', 'you', 'may', 'have', 'interest', 'in.', '==', 'this', 'message', 'is', 'being', 'sent', 'to', 'let', 'you', 'know', 'of', 'a', 'discussion', 'at', 'the', 'wikipedia:dispute', 'resolution', 'noticeboard', 'regarding', 'a', 'content', 'dispute', 'discussion', 'you', 'may', 'have', 'participated', 'in.', 'content', 'disputes', 'can', 'hold', 'up', 'article', 'development', 'and', 'make', 'editing', 'difficult', 'for', 'editors.', 'you', 'are', 'not', 'required', 'to', 'participate,', 'but', 'you', 'are', 'both', 'invited', 'and', 'encouraged', 'to', 'help', 'find', 'a', 'resolution.', 'the', 'discussion', 'is', 'about', 'the', 'topic', \"talk:bob's\", 'burgers.', 'please', 'join', 'us', 'to', 'help', 'form', 'a', 'consensus.', 'thank', 'you!', '—', '(drn', 'volunteer)', '==', 'suzannah', 'lipscomb', '==', 'hi,', 'i', 'only', 'tried', 'to', 'add', 'education', 'info', 'to', 'the', 'article.', 'i', \"don't\", 'think', 'there', 'is', 'any', 'contenscious', 'in', 'the', 'info', 'i', 'added?', 'i', 'apologise', 'for', 'messing', 'up', 'the', 'references', 'when', 'editing-', 'i', 'think', 'these', 'are', 'ok', 'no'], ['==', 'racist', 'girls', '==', 'how', 'can', 'this', 'article', 'possibly', 'not', 'mention', 'the', 'famous', 'incident', 'regarding', 'the', 'two', 'racist', 'girls', 'whose', 'video', 'became', 'viral', 'and', 'got', 'them', 'expelled', 'from', 'the', 'school,', 'unconstitutionally?'], ['==', 'hands', 'off', 'my', 'noobs', 'p', '==', \"it's\", 'not', 'that', \"i'm\", 'particularly', 'concerned', 'about', 'the', 'loss', 'of', ',', 'but', 'did', 'you', 'really', 'need', 'to', 'step', 'in', 'and', 'hardblock', 'there?', 'i', 'saw', 'the', 'test', 'edits.', 'i', 'saw', 'the', 'username', 'that,', 'while', 'not', 'violating', 'any', 'particular', 'part', 'of', 'policy,', 'managed', 'to', 'be', 'an', 'astoundingly', 'bad', 'choice', 'of', 'username', 'anyway.', 'i', 'responded', 'to', 'these', 'issues', 'with', 'the', 'warning', 'i', 'felt', 'was', 'appropriate,', 'feeling', 'that', 'the', 'user', 'could', 'have', 'a', 'second', 'chance', 'under', 'a', 'less', 'moronic', 'username.', 'yes,', 'i', 'am', 'more', 'patient', 'with', 'newbies', 'who', 'screw', 'up', 'than', 'you', 'are.', 'we', 'can', 'each', 'have', 'our', 'own', 'approach', 'to', 'adminship.', 'but', 'i', \"don't\", 'unblock', 'and', 'warn', 'noobs', \"you've\", 'just', 'hardblocked,', 'so', 'how', 'about', 'you', \"don't\", 'hardblock', 'noobs', \"i've\", 'just', 'warned?', 'and', 'if', 'this', 'was', 'just', 'an', 'oversight,', \"that's\", 'fine.', 'again,', 'it', 'is', 'unlikely', 'that', 'wikipedia', 'will', 'suffer', 'from', 'the', 'loss', 'of', 'this', 'user.'], ['please', 'stop', 'your', 'disruptive', 'editing.', 'if', 'you', 'continue', 'to', 'vandalize', 'wikipedia,', 'as', 'you', 'did', 'at', 'henry', 'hudson,', 'you', 'will', 'be', 'blocked', 'from', 'editing.'], ['are', 'you', 'also', 'suggesting', 'all', 'paintings', 'of', 'black', 'moors', 'are', 'fake', 'too?', 'are', 'you', 'saying', 'that', 'they', 'should', 'be', 'white?'], ['::assyrian', 'nationalists', 'should', 'just', 'go', 'back', 'to', 'using', 'instead', 'of', 'drawing', 'a', 'new', 'flag', 'every', 'five', 'years', 'and', 'then', 'shout', 'at', 'each', 'other', 'over', 'it.', 'seriously,', 'it', 'looks', 'undignified', 'to', 'any', 'bystander.'], ['this', 'is', 'realy', 'crap', 'man', 'boots', 'is', 'one', 'tite', 'ass', 'who', 'treats', 'its', 'staff', 'like', 'slaves,', 'mister', 'richard', 'you', 'realy', 'need', 'to', 'calm', 'the', 'preasure', 'on', 'the', 'staff', 'hire', 'more', 'staff', 'and', 'stop', 'it', 'with', 'your', 'gridy', 'ideas', 'that', 'will', 'fail', 'the', 'company,', 'p.s', 'a', 'very', 'deapreciated', 'staff', 'that', 'has', 'so', 'much', 'potential.'], ['she', 'was', 'a', 'horny', 'leader.earthgirls', 'are', 'easy', 'to', 'fuck.'], ['lol', '@', 'the', 'manly-cronulla', 'rivalry.', \"i'm\", 'adding', 'a', 'coaches', 'section.'], ['edjohnston', 'you', 'are', 'wrong,', 'i', 'did', 'not', 'file', 'the', 'report,', 'benhen1997', 'did.', 'you', 'also', 'did', 'not', 'block', 'the', 'other', 'person', 'but', 'only', 'one', 'of', 'the', 'several', 'ips', 'they', 'were', 'using.'], ['\"', '==', 'shameless', 'canvass', '==', 'hello,', 'diannaa!', 'thanks', 'for', 'blocking', 'that', 'horrible', 'puke', 'again.', 'when', 'i', '\"\"translate\"\"', 'on', 'your', 'page', 'i', 'get', 'mad.', 'he', 'is', 'just', 'a', 'total', 'piece', 'of', 'garbage.', 'thanks', 'again!', '\"'], ['go', 'fuck', 'yourself', '...cunt'], ['what', 'the', 'hell', 'justin'], ['*', 'delete,', 'combine', 'the', 'apparent', 'controversy', 'of', 'this', 'link', 'and', 'that', 'i', 'think', 'most', 'articles', 'have', 'too', 'many', 'external', 'links', '(this', 'is', 'what', 'search', 'engines', 'are', 'for).', 'june', '29,', '2005', '02:31', '(utc)'], ['would', 'you', 'stop', 'it', 'already?', 'wp:te'], ['running', 'into', 'houses', 'and', 'killing', 'people......', 'shame.....'], ['::::::', 'you', 'had', 'to', 'consider???', 'humph!!!!!!!', 'n...'], ['==', 'my', 'edit', 'in', 'arkansas', '–', 'ole', 'miss', 'rivalry', '==', 'sorry', 'about', 'that', '-', \"didn't\", 'realize', 'the', 'logos', \"weren't\", 'non-free', 'images.']]\n",
            "159571\n",
            "312735\n"
          ],
          "name": "stdout"
        }
      ]
    },
    {
      "cell_type": "code",
      "metadata": {
        "id": "XZ5wZosU7EAw",
        "colab_type": "code",
        "colab": {}
      },
      "source": [
        "import string\n",
        "for w in all_sentence_list:\n",
        "  for i in range(0,len(w)):\n",
        "    w[i] = w[i].translate(str.maketrans('','',string.punctuation))"
      ],
      "execution_count": 0,
      "outputs": []
    },
    {
      "cell_type": "code",
      "metadata": {
        "id": "QL-JvO977hU0",
        "colab_type": "code",
        "colab": {}
      },
      "source": [
        "stemmer = SnowballStemmer(\"english\")\n",
        "\n",
        "stemmed_sentence = [[stemmer.stem(word) for word in sentence] for sentence in all_sentence_list]"
      ],
      "execution_count": 0,
      "outputs": []
    },
    {
      "cell_type": "code",
      "metadata": {
        "id": "Xd0A9bs2Z3IU",
        "colab_type": "code",
        "outputId": "d5e7e92b-87ff-4cb3-dfe8-e49dccfaad8d",
        "colab": {
          "base_uri": "https://localhost:8080/",
          "height": 74
        }
      },
      "source": [
        "print(\"Sentence before stemming: \",all_sentence_list[3])\n",
        "print(\"Sentence after stemming: \",stemmed_sentence[3])"
      ],
      "execution_count": 8,
      "outputs": [
        {
          "output_type": "stream",
          "text": [
            "Sentence before stemming:  ['', 'more', 'i', 'cant', 'make', 'any', 'real', 'suggestions', 'on', 'improvement', '', 'i', 'wondered', 'if', 'the', 'section', 'statistics', 'should', 'be', 'later', 'on', 'or', 'a', 'subsection', 'of', 'types', 'of', 'accidents', 'i', 'think', 'the', 'references', 'may', 'need', 'tidying', 'so', 'that', 'they', 'are', 'all', 'in', 'the', 'exact', 'same', 'format', 'ie', 'date', 'format', 'etc', 'i', 'can', 'do', 'that', 'later', 'on', 'if', 'noone', 'else', 'does', 'first', '', 'if', 'you', 'have', 'any', 'preferences', 'for', 'formatting', 'style', 'on', 'references', 'or', 'want', 'to', 'do', 'it', 'yourself', 'please', 'let', 'me', 'know', 'there', 'appears', 'to', 'be', 'a', 'backlog', 'on', 'articles', 'for', 'review', 'so', 'i', 'guess', 'there', 'may', 'be', 'a', 'delay', 'until', 'a', 'reviewer', 'turns', 'up', 'its', 'listed', 'in', 'the', 'relevant', 'form', 'eg', 'wikipediagoodarticlenominationstransport', '']\n",
            "Sentence after stemming:  ['', 'more', 'i', 'cant', 'make', 'ani', 'real', 'suggest', 'on', 'improv', '', 'i', 'wonder', 'if', 'the', 'section', 'statist', 'should', 'be', 'later', 'on', 'or', 'a', 'subsect', 'of', 'type', 'of', 'accid', 'i', 'think', 'the', 'refer', 'may', 'need', 'tidi', 'so', 'that', 'they', 'are', 'all', 'in', 'the', 'exact', 'same', 'format', 'ie', 'date', 'format', 'etc', 'i', 'can', 'do', 'that', 'later', 'on', 'if', 'noon', 'els', 'doe', 'first', '', 'if', 'you', 'have', 'ani', 'prefer', 'for', 'format', 'style', 'on', 'refer', 'or', 'want', 'to', 'do', 'it', 'yourself', 'pleas', 'let', 'me', 'know', 'there', 'appear', 'to', 'be', 'a', 'backlog', 'on', 'articl', 'for', 'review', 'so', 'i', 'guess', 'there', 'may', 'be', 'a', 'delay', 'until', 'a', 'review', 'turn', 'up', 'it', 'list', 'in', 'the', 'relev', 'form', 'eg', 'wikipediagoodarticlenominationstransport', '']\n"
          ],
          "name": "stdout"
        }
      ]
    },
    {
      "cell_type": "markdown",
      "metadata": {
        "id": "UvgzLRok81a7",
        "colab_type": "text"
      },
      "source": [
        "<h2>Tokenizing</h2>"
      ]
    },
    {
      "cell_type": "code",
      "metadata": {
        "id": "mshxEKD183my",
        "colab_type": "code",
        "colab": {}
      },
      "source": [
        "tokenizer = Tokenizer(num_words = 10000)\n",
        "tokenizer.fit_on_texts(stemmed_sentence)\n",
        "\n",
        "X_train = tokenizer.texts_to_sequences(stemmed_sentence[0:290000])\n",
        "X_test = tokenizer.texts_to_sequences(stemmed_sentence[290000:])\n",
        "vocab_size = len(tokenizer.word_index) + 1"
      ],
      "execution_count": 0,
      "outputs": []
    },
    {
      "cell_type": "code",
      "metadata": {
        "id": "-3DW7QtR9R_U",
        "colab_type": "code",
        "outputId": "4d2d0eef-8570-4623-e856-56ac39c8941c",
        "colab": {
          "base_uri": "https://localhost:8080/",
          "height": 35
        }
      },
      "source": [
        "from keras.preprocessing.sequence import pad_sequences\n",
        "maxlen = 1411\n",
        "X_train = pad_sequences(X_train, padding = 'post',maxlen = maxlen)\n",
        "X_test = pad_sequences(X_test, padding = 'post',maxlen = maxlen)\n",
        "X_train.shape\n",
        "\n"
      ],
      "execution_count": 13,
      "outputs": [
        {
          "output_type": "execute_result",
          "data": {
            "text/plain": [
              "(290000, 1411)"
            ]
          },
          "metadata": {
            "tags": []
          },
          "execution_count": 13
        }
      ]
    },
    {
      "cell_type": "code",
      "metadata": {
        "id": "8mmTwEWX-Qph",
        "colab_type": "code",
        "outputId": "5e4a9e97-fba3-4b9e-96dd-d8f7913b0784",
        "colab": {
          "base_uri": "https://localhost:8080/",
          "height": 74
        }
      },
      "source": [
        "print(\"Sentence before tokenization: \" ,stemmed_sentence[3])\n",
        "print(\"Sentence after tokenization: \",X_train[3])\n",
        "X_train = np.flip(X_train,0)"
      ],
      "execution_count": 14,
      "outputs": [
        {
          "output_type": "stream",
          "text": [
            "Sentence before tokenization:  ['', 'more', 'i', 'cant', 'make', 'ani', 'real', 'suggest', 'on', 'improv', '', 'i', 'wonder', 'if', 'the', 'section', 'statist', 'should', 'be', 'later', 'on', 'or', 'a', 'subsect', 'of', 'type', 'of', 'accid', 'i', 'think', 'the', 'refer', 'may', 'need', 'tidi', 'so', 'that', 'they', 'are', 'all', 'in', 'the', 'exact', 'same', 'format', 'ie', 'date', 'format', 'etc', 'i', 'can', 'do', 'that', 'later', 'on', 'if', 'noon', 'els', 'doe', 'first', '', 'if', 'you', 'have', 'ani', 'prefer', 'for', 'format', 'style', 'on', 'refer', 'or', 'want', 'to', 'do', 'it', 'yourself', 'pleas', 'let', 'me', 'know', 'there', 'appear', 'to', 'be', 'a', 'backlog', 'on', 'articl', 'for', 'review', 'so', 'i', 'guess', 'there', 'may', 'be', 'a', 'delay', 'until', 'a', 'review', 'turn', 'up', 'it', 'list', 'in', 'the', 'relev', 'form', 'eg', 'wikipediagoodarticlenominationstransport', '']\n",
            "Sentence after tokenization:  [ 3 66  8 ...  0  0  0]\n"
          ],
          "name": "stdout"
        }
      ]
    },
    {
      "cell_type": "markdown",
      "metadata": {
        "id": "xYbvXNFf9kFz",
        "colab_type": "text"
      },
      "source": [
        "<h2> Maintaining labels</h2>"
      ]
    },
    {
      "cell_type": "code",
      "metadata": {
        "id": "nY9FYINr9puG",
        "colab_type": "code",
        "outputId": "085dca5e-164a-4dd7-d633-148124c0f209",
        "colab": {
          "base_uri": "https://localhost:8080/",
          "height": 35
        }
      },
      "source": [
        "Y_train = []\n",
        "for data in training_data.itertuples():\n",
        "  label_set = []\n",
        "  label_set.append(data.toxic)\n",
        "  label_set.append(data.severe_toxic)\n",
        "  label_set.append(data.obscene)\n",
        "  label_set.append(data.threat)\n",
        "  label_set.append(data.insult)\n",
        "  label_set.append(data.identity_hate)\n",
        "  Y_train.append(label_set)\n",
        "  \n",
        "y_train = np.array(Y_train)\n",
        "y_train.shape  "
      ],
      "execution_count": 15,
      "outputs": [
        {
          "output_type": "execute_result",
          "data": {
            "text/plain": [
              "(159571, 6)"
            ]
          },
          "metadata": {
            "tags": []
          },
          "execution_count": 15
        }
      ]
    },
    {
      "cell_type": "code",
      "metadata": {
        "id": "CKLl3SBX95Yh",
        "colab_type": "code",
        "outputId": "cddcbb51-0e34-4cfa-a06e-68629cfd4a12",
        "colab": {
          "base_uri": "https://localhost:8080/",
          "height": 35
        }
      },
      "source": [
        "test_labels2 = []\n",
        "for data in test_labels.itertuples():\n",
        "  label_set = []\n",
        "  label_set.append(data.toxic)\n",
        "  label_set.append(data.severe_toxic)\n",
        "  label_set.append(data.obscene)\n",
        "  label_set.append(data.threat)\n",
        "  label_set.append(data.insult)\n",
        "  label_set.append(data.identity_hate)\n",
        "  test_labels2.append(label_set)\n",
        "  \n",
        "for w in test_labels2:\n",
        "  for i in range(6):\n",
        "    if w[i] == -1:\n",
        "      w[i] = 1\n",
        "      \n",
        "test_label = np.array(test_labels2)\n",
        "\n",
        "test_label.shape"
      ],
      "execution_count": 16,
      "outputs": [
        {
          "output_type": "execute_result",
          "data": {
            "text/plain": [
              "(153164, 6)"
            ]
          },
          "metadata": {
            "tags": []
          },
          "execution_count": 16
        }
      ]
    },
    {
      "cell_type": "code",
      "metadata": {
        "id": "xCsr2HIWHjWn",
        "colab_type": "code",
        "outputId": "d9070cb5-4a70-49a4-f6fb-e971dde941c5",
        "colab": {
          "base_uri": "https://localhost:8080/",
          "height": 54
        }
      },
      "source": [
        "print(len(Y_train))\n",
        "rem = 290000 - 159571\n",
        "maxl = 290000\n",
        "count = 0\n",
        "while len(Y_train) <maxl:\n",
        "  Y_train.append(test_labels2[count])\n",
        "  count = count + 1\n",
        "  \n",
        "test_labels2 = test_labels2[rem:]\n",
        "print(len(Y_train))"
      ],
      "execution_count": 17,
      "outputs": [
        {
          "output_type": "stream",
          "text": [
            "159571\n",
            "290000\n"
          ],
          "name": "stdout"
        }
      ]
    },
    {
      "cell_type": "code",
      "metadata": {
        "id": "_s-fcvVsgtpd",
        "colab_type": "code",
        "outputId": "6d247dcc-7044-4042-eab2-2bdd6ffb8d88",
        "colab": {
          "base_uri": "https://localhost:8080/",
          "height": 35
        }
      },
      "source": [
        "label_count = [0,0,0,0,0,0]\n",
        "for y in Y_train:\n",
        "  for i in range(6):\n",
        "    if y[i] == 1:\n",
        "      label_count[i] = label_count[i] + 1\n",
        "      \n",
        "print(label_count)\n",
        "\n"
      ],
      "execution_count": 18,
      "outputs": [
        {
          "output_type": "stream",
          "text": [
            "[96336, 77727, 87433, 76472, 86620, 77828]\n"
          ],
          "name": "stdout"
        }
      ]
    },
    {
      "cell_type": "code",
      "metadata": {
        "id": "FfLujjhZiAKf",
        "colab_type": "code",
        "outputId": "eeaee58c-9a13-4946-e15c-c1d8d26b9015",
        "colab": {
          "base_uri": "https://localhost:8080/",
          "height": 291
        }
      },
      "source": [
        "label = [\"toxic\",\"severe_toxic\",\"obscene\",\"threat\",\"insult\",\"identity_hate\"]\n",
        "import matplotlib.pyplot as plt\n",
        "\n",
        "plt.bar(label,label_count)\n",
        "plt.xlabel(\"Comment type\",fontsize = 5)\n",
        "plt.ylabel(\"Number of comments\",fontsize = 5)\n",
        "plt.title(\"Comments Labels\")\n",
        "plt.show()"
      ],
      "execution_count": 19,
      "outputs": [
        {
          "output_type": "display_data",
          "data": {
            "image/png": "[encoded data removed]",
            "text/plain": [
              "<Figure size 432x288 with 1 Axes>"
            ]
          },
          "metadata": {
            "tags": []
          }
        }
      ]
    },
    {
      "cell_type": "code",
      "metadata": {
        "id": "A2na082vKuZC",
        "colab_type": "code",
        "outputId": "41454bcf-0e39-42ae-c489-cde5f6225086",
        "colab": {
          "base_uri": "https://localhost:8080/",
          "height": 35
        }
      },
      "source": [
        "y_train = np.array(Y_train)\n",
        "test_label = np.array(test_labels2)\n",
        "y_train.shape\n"
      ],
      "execution_count": 20,
      "outputs": [
        {
          "output_type": "execute_result",
          "data": {
            "text/plain": [
              "(290000, 6)"
            ]
          },
          "metadata": {
            "tags": []
          },
          "execution_count": 20
        }
      ]
    },
    {
      "cell_type": "code",
      "metadata": {
        "id": "WGHNVgnh_rkK",
        "colab_type": "code",
        "colab": {}
      },
      "source": [
        "y_train = np.flip(y_train,0)"
      ],
      "execution_count": 0,
      "outputs": []
    },
    {
      "cell_type": "markdown",
      "metadata": {
        "id": "7Fo3oh6f-akT",
        "colab_type": "text"
      },
      "source": [
        "<h2>Building a Keras Sequential Model</h2>"
      ]
    },
    {
      "cell_type": "code",
      "metadata": {
        "id": "QWGvHevqAAgP",
        "colab_type": "code",
        "outputId": "cd492560-5b89-4261-a9a0-15a942cd156f",
        "colab": {
          "base_uri": "https://localhost:8080/",
          "height": 606
        }
      },
      "source": [
        "embedding_dim = 100\n",
        "\n",
        "model = Sequential()\n",
        "model.add(layers.Embedding(vocab_size, embedding_dim, input_length=maxlen))\n",
        "model.add(layers.Conv1D(128, 5, activation='relu'))\n",
        "model.add(layers.GlobalMaxPooling1D())\n",
        "model.add(layers.Dense(10, activation='relu'))\n",
        "model.add(layers.Dense(6, activation='sigmoid'))\n",
        "model.compile(optimizer='adam',\n",
        "              loss='binary_crossentropy',\n",
        "              metrics=['accuracy'])\n",
        "model.summary()"
      ],
      "execution_count": 22,
      "outputs": [
        {
          "output_type": "stream",
          "text": [
            "WARNING: Logging before flag parsing goes to stderr.\n",
            "W0616 05:24:42.139405 140300413638528 deprecation_wrapper.py:119] From /usr/local/lib/python3.6/dist-packages/keras/backend/tensorflow_backend.py:74: The name tf.get_default_graph is deprecated. Please use tf.compat.v1.get_default_graph instead.\n",
            "\n",
            "W0616 05:24:42.176341 140300413638528 deprecation_wrapper.py:119] From /usr/local/lib/python3.6/dist-packages/keras/backend/tensorflow_backend.py:517: The name tf.placeholder is deprecated. Please use tf.compat.v1.placeholder instead.\n",
            "\n",
            "W0616 05:24:42.184803 140300413638528 deprecation_wrapper.py:119] From /usr/local/lib/python3.6/dist-packages/keras/backend/tensorflow_backend.py:4138: The name tf.random_uniform is deprecated. Please use tf.random.uniform instead.\n",
            "\n",
            "W0616 05:24:42.257115 140300413638528 deprecation_wrapper.py:119] From /usr/local/lib/python3.6/dist-packages/keras/optimizers.py:790: The name tf.train.Optimizer is deprecated. Please use tf.compat.v1.train.Optimizer instead.\n",
            "\n",
            "W0616 05:24:42.276452 140300413638528 deprecation_wrapper.py:119] From /usr/local/lib/python3.6/dist-packages/keras/backend/tensorflow_backend.py:3376: The name tf.log is deprecated. Please use tf.math.log instead.\n",
            "\n",
            "W0616 05:24:42.281869 140300413638528 deprecation.py:323] From /usr/local/lib/python3.6/dist-packages/tensorflow/python/ops/nn_impl.py:180: add_dispatch_support.<locals>.wrapper (from tensorflow.python.ops.array_ops) is deprecated and will be removed in a future version.\n",
            "Instructions for updating:\n",
            "Use tf.where in 2.0, which has the same broadcast rule as np.where\n"
          ],
          "name": "stderr"
        },
        {
          "output_type": "stream",
          "text": [
            "_________________________________________________________________\n",
            "Layer (type)                 Output Shape              Param #   \n",
            "=================================================================\n",
            "embedding_1 (Embedding)      (None, 1411, 100)         41091100  \n",
            "_________________________________________________________________\n",
            "conv1d_1 (Conv1D)            (None, 1407, 128)         64128     \n",
            "_________________________________________________________________\n",
            "global_max_pooling1d_1 (Glob (None, 128)               0         \n",
            "_________________________________________________________________\n",
            "dense_1 (Dense)              (None, 10)                1290      \n",
            "_________________________________________________________________\n",
            "dense_2 (Dense)              (None, 6)                 66        \n",
            "=================================================================\n",
            "Total params: 41,156,584\n",
            "Trainable params: 41,156,584\n",
            "Non-trainable params: 0\n",
            "_________________________________________________________________\n"
          ],
          "name": "stdout"
        }
      ]
    },
    {
      "cell_type": "code",
      "metadata": {
        "id": "PnYNBQTTAJqs",
        "colab_type": "code",
        "outputId": "c01755a6-8a17-4d40-b622-f3d8a85e6ba9",
        "colab": {
          "base_uri": "https://localhost:8080/",
          "height": 441
        }
      },
      "source": [
        "history = model.fit(X_train,\n",
        "                    y_train,\n",
        "                    epochs=10\n",
        "                   )"
      ],
      "execution_count": 23,
      "outputs": [
        {
          "output_type": "stream",
          "text": [
            "W0616 05:24:46.428565 140300413638528 deprecation_wrapper.py:119] From /usr/local/lib/python3.6/dist-packages/keras/backend/tensorflow_backend.py:986: The name tf.assign_add is deprecated. Please use tf.compat.v1.assign_add instead.\n",
            "\n"
          ],
          "name": "stderr"
        },
        {
          "output_type": "stream",
          "text": [
            "Epoch 1/10\n",
            "290000/290000 [==============================] - 350s 1ms/step - loss: 0.5109 - acc: 0.7579\n",
            "Epoch 2/10\n",
            "290000/290000 [==============================] - 343s 1ms/step - loss: 0.4805 - acc: 0.7714\n",
            "Epoch 3/10\n",
            "290000/290000 [==============================] - 343s 1ms/step - loss: 0.4446 - acc: 0.7892\n",
            "Epoch 4/10\n",
            "290000/290000 [==============================] - 343s 1ms/step - loss: 0.3914 - acc: 0.8161\n",
            "Epoch 5/10\n",
            "290000/290000 [==============================] - 343s 1ms/step - loss: 0.3309 - acc: 0.8464\n",
            "Epoch 6/10\n",
            "290000/290000 [==============================] - 343s 1ms/step - loss: 0.2762 - acc: 0.8717\n",
            "Epoch 7/10\n",
            "290000/290000 [==============================] - 343s 1ms/step - loss: 0.2338 - acc: 0.8919\n",
            "Epoch 8/10\n",
            "290000/290000 [==============================] - 342s 1ms/step - loss: 0.2037 - acc: 0.9061\n",
            "Epoch 9/10\n",
            "290000/290000 [==============================] - 342s 1ms/step - loss: 0.1817 - acc: 0.9165\n",
            "Epoch 10/10\n",
            "290000/290000 [==============================] - 344s 1ms/step - loss: 0.1656 - acc: 0.9238\n"
          ],
          "name": "stdout"
        }
      ]
    },
    {
      "cell_type": "code",
      "metadata": {
        "id": "jIwn2Gi_AMqF",
        "colab_type": "code",
        "outputId": "b70fa538-2595-4ce1-d9f0-dc55cdc23258",
        "colab": {
          "base_uri": "https://localhost:8080/",
          "height": 54
        }
      },
      "source": [
        "results = model.evaluate(X_test,test_label)\n",
        "print(\"Test results: \", results)"
      ],
      "execution_count": 25,
      "outputs": [
        {
          "output_type": "stream",
          "text": [
            "22735/22735 [==============================] - 2s 93us/step\n",
            "Test results:  [2.0865192184192365, 0.5147056659250593]\n"
          ],
          "name": "stdout"
        }
      ]
    },
    {
      "cell_type": "markdown",
      "metadata": {
        "id": "UltBH9Sz9Zd2",
        "colab_type": "text"
      },
      "source": [
        "<h2>Sample Testing</h2>"
      ]
    },
    {
      "cell_type": "code",
      "metadata": {
        "id": "uIFKpTUhcfPm",
        "colab_type": "code",
        "colab": {}
      },
      "source": [
        "\n",
        "sample = \"you are a stupid person you don't know how to write anything you should just die and free world from your presence your artice is the worst piece of writing I have ever seen\"\n",
        "sample_sentence = sample.split()\n",
        "stemmed_sample = [stemmer.stem(word) for word in sample_sentence]\n",
        "tokenizer.fit_on_texts(stemmed_sample)\n",
        "final_sample =tokenizer.texts_to_sequences(stemmed_sample)\n",
        "final_sample =  pad_sequences(final_sample, padding = 'post',maxlen = maxlen)\n",
        "prob = model.predict(final_sample)\n"
      ],
      "execution_count": 0,
      "outputs": []
    },
    {
      "cell_type": "code",
      "metadata": {
        "id": "9TggpmxWcf6Y",
        "colab_type": "code",
        "outputId": "b9bded9a-df4c-48ad-cc19-cb712146748f",
        "colab": {
          "base_uri": "https://localhost:8080/",
          "height": 90
        }
      },
      "source": [
        "top3 = np.argsort(prob[0])\n",
        "print(\"The top three predictions are:\")\n",
        "for i in range(3):\n",
        "  print(label[i])"
      ],
      "execution_count": 30,
      "outputs": [
        {
          "output_type": "stream",
          "text": [
            "The top three predictions are:\n",
            "toxic\n",
            "severe_toxic\n",
            "obscene\n"
          ],
          "name": "stdout"
        }
      ]
    },
    {
      "cell_type": "markdown",
      "metadata": {
        "id": "u5hnfyibk_1j",
        "colab_type": "text"
      },
      "source": [
        "<h2> Proposed Grid Search</h2>"
      ]
    },
    {
      "cell_type": "code",
      "metadata": {
        "id": "pyDKQQsG9Us0",
        "colab_type": "code",
        "colab": {}
      },
      "source": [
        "def create_model(num_filters, kernel_size, vocab_size, embedding_dim, maxlen):\n",
        "    model = Sequential()\n",
        "    model.add(layers.Embedding(vocab_size, embedding_dim, input_length=maxlen))\n",
        "    model.add(layers.Conv1D(num_filters, kernel_size, activation='relu'))\n",
        "    model.add(layers.GlobalMaxPooling1D())\n",
        "    model.add(layers.Dense(10, activation='relu'))\n",
        "    model.add(layers.Dense(6, activation='sigmoid'))\n",
        "    model.compile(optimizer='adam',\n",
        "                  loss='binary_crossentropy',\n",
        "                  metrics=['accuracy'])\n",
        "    return model\n"
      ],
      "execution_count": 0,
      "outputs": []
    },
    {
      "cell_type": "code",
      "metadata": {
        "id": "B_w-QmsP2jBf",
        "colab_type": "code",
        "colab": {}
      },
      "source": [
        "param_grid = dict(num_filters=[32, 64, 128],\n",
        "                  kernel_size=[5],\n",
        "                  vocab_size=[10000], \n",
        "                  embedding_dim=[100],\n",
        "                  maxlen=[1411])\n"
      ],
      "execution_count": 0,
      "outputs": []
    },
    {
      "cell_type": "code",
      "metadata": {
        "id": "eS-_IK_Y2i49",
        "colab_type": "code",
        "colab": {}
      },
      "source": [
        "from keras.wrappers.scikit_learn import KerasClassifier\n",
        "from sklearn.model_selection import RandomizedSearchCV\n",
        "\n",
        "model = KerasClassifier(build_fn=create_model,\n",
        "                            epochs=10, batch_size=100,\n",
        "                            verbose=False)\n",
        "grid = RandomizedSearchCV(estimator=model, param_distributions=param_grid,\n",
        "                              cv=4, n_iter=5)\n",
        "\n",
        "grid_result = grid.fit(X_train, y_train)"
      ],
      "execution_count": 0,
      "outputs": []
    },
    {
      "cell_type": "code",
      "metadata": {
        "id": "sITIFIIMH4Wm",
        "colab_type": "code",
        "colab": {}
      },
      "source": [
        "test_accuracy = grid.score(X_test, y_test)"
      ],
      "execution_count": 0,
      "outputs": []
    }
  ]
}